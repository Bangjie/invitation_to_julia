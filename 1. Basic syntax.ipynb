{
 "cells": [
  {
   "cell_type": "markdown",
   "metadata": {},
   "source": [
    "# Example: The Newton method for finding roots of functions "
   ]
  },
  {
   "cell_type": "markdown",
   "metadata": {},
   "source": [
    "The Newton method is an iterative method to solve equations of the form $f(x)=0$, i.e. to find *roots* or *zeros* $x^\\ast$ such that $f(x^\\ast) = 0$. Given an initial guess $x_0$, we repeat the iteration\n",
    "\n",
    "$$x_{n+1} = x_n - \\frac{f(x_n)}{f'(x_n)}.$$"
   ]
  },
  {
   "cell_type": "markdown",
   "metadata": {},
   "source": [
    "## Variables"
   ]
  },
  {
   "cell_type": "markdown",
   "metadata": {},
   "source": [
    "Let's implement the Newton algorithm in Julia. We start from an initial condition $x_0$:"
   ]
  },
  {
   "cell_type": "code",
   "execution_count": 1,
   "metadata": {
    "collapsed": false
   },
   "outputs": [
    {
     "data": {
      "text/plain": [
       "3"
      ]
     },
     "execution_count": 1,
     "metadata": {},
     "output_type": "execute_result"
    }
   ],
   "source": [
    "x_0 = 3"
   ]
  },
  {
   "cell_type": "markdown",
   "metadata": {},
   "source": [
    "Julia always returns a value from any expression:"
   ]
  },
  {
   "cell_type": "code",
   "execution_count": 2,
   "metadata": {
    "collapsed": false
   },
   "outputs": [
    {
     "data": {
      "text/plain": [
       "3"
      ]
     },
     "execution_count": 2,
     "metadata": {},
     "output_type": "execute_result"
    }
   ],
   "source": [
    "x_0"
   ]
  },
  {
   "cell_type": "markdown",
   "metadata": {},
   "source": [
    "We can use LaTeX notation and tab completion for Unicode, e.g. `x\\_0<TAB>`:"
   ]
  },
  {
   "cell_type": "code",
   "execution_count": 3,
   "metadata": {
    "collapsed": false
   },
   "outputs": [
    {
     "data": {
      "text/plain": [
       "3"
      ]
     },
     "execution_count": 3,
     "metadata": {},
     "output_type": "execute_result"
    }
   ],
   "source": [
    "x₀ = 3"
   ]
  },
  {
   "cell_type": "code",
   "execution_count": 4,
   "metadata": {
    "collapsed": false
   },
   "outputs": [
    {
     "data": {
      "text/plain": [
       "3"
      ]
     },
     "execution_count": 4,
     "metadata": {},
     "output_type": "execute_result"
    }
   ],
   "source": [
    "x₀"
   ]
  },
  {
   "cell_type": "markdown",
   "metadata": {},
   "source": [
    "Values in Julia have associated **types**. We can find the type of a variable using the appropriately-named `typeof` function:"
   ]
  },
  {
   "cell_type": "code",
   "execution_count": 5,
   "metadata": {
    "collapsed": false
   },
   "outputs": [
    {
     "data": {
      "text/plain": [
       "Int64"
      ]
     },
     "execution_count": 5,
     "metadata": {},
     "output_type": "execute_result"
    }
   ],
   "source": [
    "typeof(x₀)"
   ]
  },
  {
   "cell_type": "markdown",
   "metadata": {},
   "source": [
    "We can guess that this means an integer with 64 bits. [This result will be `Int32` if you have a 32-bit machine.]"
   ]
  },
  {
   "cell_type": "markdown",
   "metadata": {},
   "source": [
    "## Simple functions "
   ]
  },
  {
   "cell_type": "markdown",
   "metadata": {},
   "source": [
    "We need to define a function whose roots we wish to find. Let's find square roots of two, for example. Julia provides a concise mathematical syntax for defining simple functions:"
   ]
  },
  {
   "cell_type": "code",
   "execution_count": 6,
   "metadata": {
    "collapsed": false
   },
   "outputs": [
    {
     "data": {
      "text/plain": [
       "f (generic function with 1 method)"
      ]
     },
     "execution_count": 6,
     "metadata": {},
     "output_type": "execute_result"
    }
   ],
   "source": [
    "f(x) = x^2 - 2"
   ]
  },
  {
   "cell_type": "code",
   "execution_count": 7,
   "metadata": {
    "collapsed": false
   },
   "outputs": [
    {
     "data": {
      "text/plain": [
       "7"
      ]
     },
     "execution_count": 7,
     "metadata": {},
     "output_type": "execute_result"
    }
   ],
   "source": [
    "f(x_0)"
   ]
  },
  {
   "cell_type": "markdown",
   "metadata": {},
   "source": [
    "We also need the derivative function, $f'$. For the moment, let's just give it my hand. (Later, we will see a neat way to avoid this.) We may like to write `f'`, using the apostrophe, `'`), but the apostrophe turns out to be a special character in Julia, so we get an error if we try to define a variable or function named `f'`:"
   ]
  },
  {
   "cell_type": "code",
   "execution_count": 8,
   "metadata": {
    "collapsed": false
   },
   "outputs": [
    {
     "ename": "LoadError",
     "evalue": "LoadError: syntax: invalid method name \"f'\"\nwhile loading In[8], in expression starting on line 1",
     "output_type": "error",
     "traceback": [
      "LoadError: syntax: invalid method name \"f'\"\nwhile loading In[8], in expression starting on line 1",
      ""
     ]
    }
   ],
   "source": [
    "f'(x) = 2x"
   ]
  },
  {
   "cell_type": "markdown",
   "metadata": {},
   "source": [
    "However, Unicode comes to our rescue: `f\\prime<TAB>`:"
   ]
  },
  {
   "cell_type": "code",
   "execution_count": 9,
   "metadata": {
    "collapsed": false
   },
   "outputs": [
    {
     "data": {
      "text/plain": [
       "f′ (generic function with 1 method)"
      ]
     },
     "execution_count": 9,
     "metadata": {},
     "output_type": "execute_result"
    }
   ],
   "source": [
    "f′(x) = 2x"
   ]
  },
  {
   "cell_type": "markdown",
   "metadata": {},
   "source": [
    "Now we can do one step of our algorithm; mathematical operations work like we expect:"
   ]
  },
  {
   "cell_type": "code",
   "execution_count": 10,
   "metadata": {
    "collapsed": false
   },
   "outputs": [
    {
     "data": {
      "text/plain": [
       "2.0"
      ]
     },
     "execution_count": 10,
     "metadata": {},
     "output_type": "execute_result"
    }
   ],
   "source": [
    "x_1 = x_0 - f(x_0) / f'(x_0)"
   ]
  },
  {
   "cell_type": "markdown",
   "metadata": {},
   "source": [
    "Note that division of integers using `/` gives a floating-point result:"
   ]
  },
  {
   "cell_type": "code",
   "execution_count": 11,
   "metadata": {
    "collapsed": false
   },
   "outputs": [
    {
     "data": {
      "text/plain": [
       "Float64"
      ]
     },
     "execution_count": 11,
     "metadata": {},
     "output_type": "execute_result"
    }
   ],
   "source": [
    "typeof(x_1)"
   ]
  },
  {
   "cell_type": "markdown",
   "metadata": {},
   "source": [
    "## Iteration "
   ]
  },
  {
   "cell_type": "markdown",
   "metadata": {},
   "source": [
    "We now need to repeat such steps several times. Julia has `for` loops and `while` loops. As usual, we tend to use `for` loops when we know how many iterations we want, and `while` when we iterate until a certain condition is attained. "
   ]
  },
  {
   "cell_type": "markdown",
   "metadata": {},
   "source": [
    "### Ranges and arrays"
   ]
  },
  {
   "cell_type": "markdown",
   "metadata": {},
   "source": [
    "Let's start with a simple `for`. Blocks of code in Julia *always* end with `end`:"
   ]
  },
  {
   "cell_type": "code",
   "execution_count": 12,
   "metadata": {
    "collapsed": false
   },
   "outputs": [
    {
     "name": "stdout",
     "output_type": "stream",
     "text": [
      "1\n"
     ]
    }
   ],
   "source": [
    "for i in 1:5\n",
    "    println(i)  # print the value of i followed by a new line\n",
    "end"
   ]
  },
  {
   "cell_type": "markdown",
   "metadata": {},
   "source": [
    "Here, a variable `i` is introduced that is *local* to the loop, i.e. it exists only inside the loop:"
   ]
  },
  {
   "cell_type": "code",
   "execution_count": 13,
   "metadata": {
    "collapsed": false
   },
   "outputs": [
    {
     "ename": "LoadError",
     "evalue": "LoadError: UndefVarError: i not defined\nwhile loading In[13], in expression starting on line 1",
     "output_type": "error",
     "traceback": [
      "LoadError: UndefVarError: i not defined\nwhile loading In[13], in expression starting on line 1",
      ""
     ]
    }
   ],
   "source": [
    "i"
   ]
  },
  {
   "cell_type": "markdown",
   "metadata": {},
   "source": [
    "`i` takes each value in the *iterable collection* `1:5`. Let's ask Julia what this object `1:5` is:"
   ]
  },
  {
   "cell_type": "code",
   "execution_count": 14,
   "metadata": {
    "collapsed": false
   },
   "outputs": [
    {
     "data": {
      "text/plain": [
       "1:5"
      ]
     },
     "execution_count": 14,
     "metadata": {},
     "output_type": "execute_result"
    }
   ],
   "source": [
    "1:5"
   ]
  },
  {
   "cell_type": "markdown",
   "metadata": {},
   "source": [
    "As usual, Julia returns a value, but in this case it is (at first glance) apparently not very helpful. What type is this object?"
   ]
  },
  {
   "cell_type": "code",
   "execution_count": 15,
   "metadata": {
    "collapsed": false
   },
   "outputs": [
    {
     "name": "stdout",
     "output_type": "stream",
     "text": [
      "2\n",
      "3\n",
      "4\n",
      "5\n"
     ]
    },
    {
     "data": {
      "text/plain": [
       "UnitRange{Int64}"
      ]
     },
     "execution_count": 15,
     "metadata": {},
     "output_type": "execute_result"
    }
   ],
   "source": [
    "typeof(1:5)"
   ]
  },
  {
   "cell_type": "markdown",
   "metadata": {},
   "source": [
    "We see that Julia has a special type (actually, several different types) to represent **ranges**, in which the elements are calculated each time a new element is required, rather than stored. We can see all the elements that will be produced using the `collect` function:"
   ]
  },
  {
   "cell_type": "code",
   "execution_count": 16,
   "metadata": {
    "collapsed": false
   },
   "outputs": [
    {
     "data": {
      "text/plain": [
       "5-element Array{Int64,1}:\n",
       " 1\n",
       " 2\n",
       " 3\n",
       " 4\n",
       " 5"
      ]
     },
     "execution_count": 16,
     "metadata": {},
     "output_type": "execute_result"
    }
   ],
   "source": [
    "v = collect(1:5)"
   ]
  },
  {
   "cell_type": "markdown",
   "metadata": {},
   "source": [
    "The result is an object of a new type, an `Array`, in this case one whose elements are integers and that is of *dimension* 1. Note that `1` is *not* the number of elements in the array, which is called `length`:"
   ]
  },
  {
   "cell_type": "code",
   "execution_count": 17,
   "metadata": {
    "collapsed": false
   },
   "outputs": [
    {
     "data": {
      "text/plain": [
       "5"
      ]
     },
     "execution_count": 17,
     "metadata": {},
     "output_type": "execute_result"
    }
   ],
   "source": [
    "length(v)"
   ]
  },
  {
   "cell_type": "markdown",
   "metadata": {},
   "source": [
    "`Array`s are also iterable, so we can iterate over an `Array` using a `for` loop. 1-dimensional arrays, also called `Vector`s, are constructed using square brackets:"
   ]
  },
  {
   "cell_type": "code",
   "execution_count": 32,
   "metadata": {
    "collapsed": false
   },
   "outputs": [
    {
     "name": "stdout",
     "output_type": "stream",
     "text": [
      "6\n"
     ]
    },
    {
     "name": "stderr",
     "output_type": "stream",
     "text": [
      " in depwarn at ./deprecated.jl:62\n",
      " in ntuple at deprecated.jl:49\n",
      " in convert at /Users/dsanders/.julia/v0.4/PyCall/src/conversions.jl:222\n",
      " in py2array at /Users/dsanders/.julia/v0.4/PyCall/src/conversions.jl:73\n",
      " in convert at /Users/dsanders/.julia/v0.4/PyCall/src/conversions.jl:429\n",
      " in pywrap at /Users/dsanders/.julia/v0.4/PyCall/src/PyCall.jl:305\n",
      " in pywrap at /Users/dsanders/.julia/v0.4/PyCall/src/PyCall.jl:304\n",
      " in __init__ at /Users/dsanders/.julia/v0.4/PyPlot/src/PyPlot.jl:149\n",
      " in include at ./boot.jl:254\n",
      " in include_from_node1 at ./loading.jl:133\n",
      " in reload_path at ./loading.jl:157\n",
      " in _require at ./loading.jl:69\n",
      " in require at ./loading.jl:52\n",
      " in include_string at loading.jl:99\n",
      " in execute_request_0x535c5df2 at /Users/dsanders/.julia/v0.4/IJulia/src/execute_request.jl:157\n",
      " in eventloop at /Users/dsanders/.julia/v0.4/IJulia/src/IJulia.jl:123\n",
      " in anonymous at task.jl:365\n",
      "while loading /Users/dsanders/.julia/v0.4/PyPlot/src/PyPlot.jl, in expression starting on line 560\n"
     ]
    },
    {
     "name": "stdout",
     "output_type": "stream",
     "text": [
      "8\n",
      "14\n"
     ]
    }
   ],
   "source": [
    "w = [3, 4, 7]\n",
    "for i in w\n",
    "    println(2*i)\n",
    "end"
   ]
  },
  {
   "cell_type": "markdown",
   "metadata": {},
   "source": [
    "## Implementing the Newton method "
   ]
  },
  {
   "cell_type": "markdown",
   "metadata": {},
   "source": [
    "We are now ready to implement the Newton method:"
   ]
  },
  {
   "cell_type": "code",
   "execution_count": 19,
   "metadata": {
    "collapsed": false
   },
   "outputs": [
    {
     "name": "stdout",
     "output_type": "stream",
     "text": [
      "8\n",
      "14\n",
      "1\t1."
     ]
    }
   ],
   "source": [
    "x_0 = 3\n",
    "x = x_0\n",
    "\n",
    "for i in 1:10\n",
    "    x_new = x - f(x) / f′(x)\n",
    "    println(i, \"\\t\", x_new)\n",
    "    x = x_new\n",
    "end\n",
    "    "
   ]
  },
  {
   "cell_type": "markdown",
   "metadata": {},
   "source": [
    "In this case, we see that the method rapidly converges to one of the square roots of two. Which root it converges to depends on the initial condition:"
   ]
  },
  {
   "cell_type": "code",
   "execution_count": 20,
   "metadata": {
    "collapsed": false
   },
   "outputs": [],
   "source": [
    "x_0 = -3\n",
    "x = x_0\n",
    "\n",
    "for i in 1:10\n",
    "    x_new = x - f(x) / f′(x)\n",
    "    println(i, \"\\t\", x_new)\n",
    "    x = x_new\n",
    "end"
   ]
  },
  {
   "cell_type": "markdown",
   "metadata": {},
   "source": [
    "The Newton method is, in fact, not guaranteed to converge to a root (although it always does so if started \"sufficiently close\" to a root, at a rate that is known). Furthermore, *which* root it converges to can depend sensitively on the initial condition. Let's calculate this for several initial conditions.\n",
    "\n",
    "First we create a set of initial conditions on the real line, say between -5 and 5. We now include a step size in the range:"
   ]
  },
  {
   "cell_type": "code",
   "execution_count": 21,
   "metadata": {
    "collapsed": false
   },
   "outputs": [
    {
     "data": {
      "text/plain": [
       "101-element Array{Float64,1}:\n",
       " -5.0\n",
       " -4.9\n",
       " -4.8\n",
       " -4.7\n",
       " -4.6\n",
       " -4.5\n",
       " -4.4\n",
       " -4.3\n",
       " -4.2\n",
       " -4.1\n",
       " -4.0\n",
       " -3.9\n",
       " -3.8\n",
       "  ⋮  \n",
       "  3.9\n",
       "  4.0\n",
       "  4.1\n",
       "  4.2\n",
       "  4.3\n",
       "  4.4\n",
       "  4.5\n",
       "  4.6\n",
       "  4.7\n",
       "  4.8\n",
       "  4.9\n",
       "  5.0"
      ]
     },
     "execution_count": 21,
     "metadata": {},
     "output_type": "execute_result"
    },
    {
     "name": "stdout",
     "output_type": "stream",
     "text": [
      "8333333333333333\n",
      "2\t1.4621212121212122\n",
      "3\t1.4149984298948028\n",
      "4\t1.4142137800471977\n",
      "5\t1.4142135623731118\n",
      "6\t1.414213562373095\n",
      "7\t1.4142135623730951\n",
      "8\t1.414213562373095\n",
      "9\t1.4142135623730951\n",
      "10\t1.414213562373095\n",
      "1\t-1.8333333333333333\n",
      "2\t-1.4621212121212122\n",
      "3\t-1.4149984298948028\n",
      "4\t-1.4142137800471977\n",
      "5\t-1.4142135623731118\n",
      "6\t-1.414213562373095\n",
      "7\t-1.4142135623730951\n",
      "8\t-1.414213562373095\n",
      "9\t-1.4142135623730951\n",
      "10\t-1.414213562373095\n"
     ]
    }
   ],
   "source": [
    "initial_conditions = -5:0.1:5\n",
    "collect(initial_conditions)   # use tab completion for long variable names!"
   ]
  },
  {
   "cell_type": "markdown",
   "metadata": {},
   "source": [
    "This range type is different:"
   ]
  },
  {
   "cell_type": "code",
   "execution_count": 22,
   "metadata": {
    "collapsed": false
   },
   "outputs": [
    {
     "data": {
      "text/plain": [
       "FloatRange{Float64}"
      ]
     },
     "execution_count": 22,
     "metadata": {},
     "output_type": "execute_result"
    }
   ],
   "source": [
    "typeof(-5:0.1:5)"
   ]
  },
  {
   "cell_type": "markdown",
   "metadata": {},
   "source": [
    "The array is also a new type: it is now an array of 64-bit floating-point numbers. We can also see that the `{...}` syntax thus gives the **parameters** of the `Array` type."
   ]
  },
  {
   "cell_type": "markdown",
   "metadata": {},
   "source": [
    "For each of these initial conditions, we will run the Newton algorithm for a certain number of steps and store the resulting value. We thus need a new array in which to store the results. One way of creating an array is using the `similar` function, which, by default, creates an array of the same type and same size, but with (currently) uninitialized values:"
   ]
  },
  {
   "cell_type": "code",
   "execution_count": 23,
   "metadata": {
    "collapsed": false,
    "scrolled": true
   },
   "outputs": [
    {
     "data": {
      "text/plain": [
       "101-element Array{Float64,1}:\n",
       " 2.22447e-314\n",
       " 2.22447e-314\n",
       " 2.22447e-314\n",
       " 2.22447e-314\n",
       " 2.22447e-314\n",
       " 2.22816e-314\n",
       " 2.22816e-314\n",
       " 2.22816e-314\n",
       " 2.22816e-314\n",
       " 2.22816e-314\n",
       " 2.22816e-314\n",
       " 2.22447e-314\n",
       " 2.22447e-314\n",
       " ⋮           \n",
       " 6.45398e-314\n",
       " 2.22816e-314\n",
       " 2.22816e-314\n",
       " 2.22447e-314\n",
       " 2.22816e-314\n",
       " 2.22816e-314\n",
       " 2.22447e-314\n",
       " 2.23287e-314\n",
       " 2.22588e-314\n",
       " 2.23287e-314\n",
       " 0.0         \n",
       " 0.0         "
      ]
     },
     "execution_count": 23,
     "metadata": {},
     "output_type": "execute_result"
    }
   ],
   "source": [
    "roots = similar(initial_conditions)"
   ]
  },
  {
   "cell_type": "markdown",
   "metadata": {},
   "source": [
    "Now we do the work:"
   ]
  },
  {
   "cell_type": "code",
   "execution_count": 24,
   "metadata": {
    "collapsed": true
   },
   "outputs": [],
   "source": [
    "for (j, x_0) in enumerate(initial_conditions)\n",
    "    x = x_0\n",
    "\n",
    "    for i in 1:100\n",
    "        x = x - f(x) / f′(x)\n",
    "    end\n",
    "    \n",
    "    roots[j] = x\n",
    "end"
   ]
  },
  {
   "cell_type": "markdown",
   "metadata": {},
   "source": [
    "Here, `enumerate` iterates over `initial_conditions` but returns not only the value at each step, but also a counter. `(j, x_0`) is called a **tuple** (an ordered pair):"
   ]
  },
  {
   "cell_type": "code",
   "execution_count": 25,
   "metadata": {
    "collapsed": false
   },
   "outputs": [
    {
     "data": {
      "text/plain": [
       "Tuple{Int64,Int64}"
      ]
     },
     "execution_count": 25,
     "metadata": {},
     "output_type": "execute_result"
    }
   ],
   "source": [
    "t = (3, 4)\n",
    "typeof(t)"
   ]
  },
  {
   "cell_type": "markdown",
   "metadata": {},
   "source": [
    "NB: In Julia v0.4, tuples have been completely reworked, and the resulting type is now\n",
    "`Tuple{Int64,Int64}`."
   ]
  },
  {
   "cell_type": "code",
   "execution_count": 26,
   "metadata": {
    "collapsed": false
   },
   "outputs": [
    {
     "data": {
      "text/plain": [
       "101-element Array{Float64,1}:\n",
       " -1.41421\n",
       " -1.41421\n",
       " -1.41421\n",
       " -1.41421\n",
       " -1.41421\n",
       " -1.41421\n",
       " -1.41421\n",
       " -1.41421\n",
       " -1.41421\n",
       " -1.41421\n",
       " -1.41421\n",
       " -1.41421\n",
       " -1.41421\n",
       "  ⋮      \n",
       "  1.41421\n",
       "  1.41421\n",
       "  1.41421\n",
       "  1.41421\n",
       "  1.41421\n",
       "  1.41421\n",
       "  1.41421\n",
       "  1.41421\n",
       "  1.41421\n",
       "  1.41421\n",
       "  1.41421\n",
       "  1.41421"
      ]
     },
     "execution_count": 26,
     "metadata": {},
     "output_type": "execute_result"
    }
   ],
   "source": [
    "roots"
   ]
  },
  {
   "cell_type": "markdown",
   "metadata": {},
   "source": [
    "Julia does not show all of the contents of an array by default. We can see everything using `showall`:"
   ]
  },
  {
   "cell_type": "code",
   "execution_count": 27,
   "metadata": {
    "collapsed": false
   },
   "outputs": [
    {
     "name": "stdout",
     "output_type": "stream",
     "text": [
      "[-"
     ]
    }
   ],
   "source": [
    "showall(roots)"
   ]
  },
  {
   "cell_type": "markdown",
   "metadata": {},
   "source": [
    "We see that, apart from the `NaN` value, the results are not very exciting. Let's work harder with more initial conditions. We can find out how long the calculation takes using `@time` by wrapping the code in a `begin...end` block:\n"
   ]
  },
  {
   "cell_type": "code",
   "execution_count": 33,
   "metadata": {
    "collapsed": false
   },
   "outputs": [
    {
     "name": "stdout",
     "output_type": "stream",
     "text": [
      "   6.052 seconds      (100 M allocations: 1534 MB, 2.46% gc time)\n"
     ]
    }
   ],
   "source": [
    "@time begin \n",
    "    initial_conditions = -100:0.01:100\n",
    "    roots = similar(initial_conditions)\n",
    "\n",
    "    for (j, x_0) in enumerate(initial_conditions)\n",
    "        x = x_0\n",
    "\n",
    "        for i in 1:1000\n",
    "            x = x - f(x) / f′(x)\n",
    "        end\n",
    "\n",
    "        roots[j] = x\n",
    "    end\n",
    "end"
   ]
  },
  {
   "cell_type": "markdown",
   "metadata": {},
   "source": [
    "## Packages and visualisation "
   ]
  },
  {
   "cell_type": "markdown",
   "metadata": {},
   "source": [
    "There are now many values stored in the array, so it is hopeless to examine them:"
   ]
  },
  {
   "cell_type": "code",
   "execution_count": 29,
   "metadata": {
    "collapsed": false
   },
   "outputs": [
    {
     "data": {
      "text/plain": [
       "20001"
      ]
     },
     "execution_count": 29,
     "metadata": {},
     "output_type": "execute_result"
    }
   ],
   "source": [
    "length(roots)"
   ]
  },
  {
   "cell_type": "markdown",
   "metadata": {},
   "source": [
    "Instead, we turn to **visualisation**. There are several plotting **packages** in Julia: [`Gadfly`]() is a native Julia library that produces beautiful plots; [`PyPlot`] is a Julian interface to the well-known `matplotlib` Python library. "
   ]
  },
  {
   "cell_type": "markdown",
   "metadata": {},
   "source": [
    "Let's start with `PyPlot`. First we need to download the package. Julia provides a built-in package manager, called `Pkg`, that gracefully handles dependencies, etc. To tell Julia that we require the package, we do"
   ]
  },
  {
   "cell_type": "code",
   "execution_count": 30,
   "metadata": {
    "collapsed": false
   },
   "outputs": [
    {
     "name": "stderr",
     "output_type": "stream",
     "text": [
      "INFO: Nothing to be done\n"
     ]
    },
    {
     "name": "stdout",
     "output_type": "stream",
     "text": [
      " 7.546 seconds      (100 M allocations: 1540 MB, 2.07% gc time)\n"
     ]
    },
    {
     "name": "stderr",
     "output_type": "stream",
     "text": [
      "INFO: METADATA might be out-of-date — you may not have the latest version of PyPlot\n",
      "INFO: Use `Pkg.update()` to get the latest versions of your packages\n"
     ]
    }
   ],
   "source": [
    "Pkg.add(\"PyPlot\")"
   ]
  },
  {
   "cell_type": "markdown",
   "metadata": {},
   "source": [
    "This step is necessary only once. In each session where we need to use `PyPlot` we do"
   ]
  },
  {
   "cell_type": "code",
   "execution_count": 34,
   "metadata": {
    "collapsed": false
   },
   "outputs": [],
   "source": [
    "using PyPlot"
   ]
  },
  {
   "cell_type": "markdown",
   "metadata": {},
   "source": [
    "Note that this process of loading a package currently can take a considerable time. Work is in progress to reduce this loading time."
   ]
  },
  {
   "cell_type": "code",
   "execution_count": 37,
   "metadata": {
    "collapsed": false
   },
   "outputs": [
    {
     "data": {
      "image/png": "[encoded data removed]",
      "text/plain": [
       "PyPlot.Figure(PyObject <matplotlib.figure.Figure object at 0x31be7fb50>)"
      ]
     },
     "metadata": {},
     "output_type": "display_data"
    }
   ],
   "source": [
    "figure(figsize=(6,4))\n",
    "plot(roots);"
   ]
  },
  {
   "cell_type": "markdown",
   "metadata": {},
   "source": [
    "## Performance 1 "
   ]
  },
  {
   "cell_type": "markdown",
   "metadata": {},
   "source": [
    "If we are used to the performance of C or Fortran, we might start to be unhappy with Julia's speed in this rather simple calculation. A close inspection of the output of the `@time` operation, however, gives us a very important clue: Julia apparently allocated over a gigabyte of memory to do a simple loop with some floating-point numbers! \n",
    "\n",
    "This is almost *always* a very strong signal that there is something very wrong in your Julia code! In our case, it is not at all clear what that could be. It turns out to be something very fundamental in Julia: \n",
    "\n",
    "[almost] **NEVER WORK WITH GLOBAL OBJECTS!**\n",
    "\n",
    "Due to technical details about the way that Julia works, it turns out that **GLOBALS ARE BAD**. What is the solution? **PUT EVERYTHING INTO A FUNCTION!** Let's try following this advice. We take *exactly* the same code and just plop it into a new function. For longer functions, Julia has an alternative syntax:"
   ]
  },
  {
   "cell_type": "code",
   "execution_count": 50,
   "metadata": {
    "collapsed": false
   },
   "outputs": [
    {
     "data": {
      "text/plain": [
       "do_roots (generic function with 1 method)"
      ]
     },
     "execution_count": 50,
     "metadata": {},
     "output_type": "execute_result"
    }
   ],
   "source": [
    "function do_roots()\n",
    "    initial_conditions = -100:0.01:100\n",
    "    roots = similar(initial_conditions)\n",
    "\n",
    "    for (j, x_0) in enumerate(initial_conditions)\n",
    "        x = x_0\n",
    "\n",
    "        for i in 1:1000\n",
    "            x = x - f(x) / f′(x)\n",
    "        end\n",
    "\n",
    "        roots[j] = x\n",
    "    end\n",
    "    \n",
    "    roots\n",
    "end"
   ]
  },
  {
   "cell_type": "markdown",
   "metadata": {},
   "source": [
    "Note the last line of the function. This will automatically *return* the value of the `roots` object as the output of the function. So we can call it like this:"
   ]
  },
  {
   "cell_type": "code",
   "execution_count": 41,
   "metadata": {
    "collapsed": false
   },
   "outputs": [
    {
     "data": {
      "text/plain": [
       "20001-element Array{Float64,1}:\n",
       " -1.41421\n",
       " -1.41421\n",
       " -1.41421\n",
       " -1.41421\n",
       " -1.41421\n",
       " -1.41421\n",
       " -1.41421\n",
       " -1.41421\n",
       " -1.41421\n",
       " -1.41421\n",
       " -1.41421\n",
       " -1.41421\n",
       " -1.41421\n",
       "  ⋮      \n",
       "  1.41421\n",
       "  1.41421\n",
       "  1.41421\n",
       "  1.41421\n",
       "  1.41421\n",
       "  1.41421\n",
       "  1.41421\n",
       "  1.41421\n",
       "  1.41421\n",
       "  1.41421\n",
       "  1.41421\n",
       "  1.41421"
      ]
     },
     "execution_count": 41,
     "metadata": {},
     "output_type": "execute_result"
    }
   ],
   "source": [
    "roots = do_roots()"
   ]
  },
  {
   "cell_type": "markdown",
   "metadata": {},
   "source": [
    "Now how long did it take?"
   ]
  },
  {
   "cell_type": "code",
   "execution_count": 51,
   "metadata": {
    "collapsed": false
   },
   "outputs": [
    {
     "name": "stdout",
     "output_type": "stream",
     "text": [
      " 195.909 milliseconds (6739 allocations: 450 KB)\n",
      " 186.336 milliseconds (8 allocations: 157 KB)\n"
     ]
    }
   ],
   "source": [
    "# a semi-colon suppresses output\n",
    "@time roots = do_roots();\n",
    "@time roots = do_roots();  "
   ]
  },
  {
   "cell_type": "markdown",
   "metadata": {},
   "source": [
    "It allocates a million times less memory, and is 50 times faster! This is the first lesson about performance in Julia: *always* put everything in a function.\n",
    "\n",
    "Note that the first time we ran the function, it took longer. This is due to the fact that the first time a function is run with arguments of given types, the function is *compiled*. Subsequent runs with the same types of arguments reuse the previously-compiled code."
   ]
  },
  {
   "cell_type": "markdown",
   "metadata": {},
   "source": [
    "**Exercise**: Use a `while` loop with a suitable condition to improve the code for the Newton method."
   ]
  },
  {
   "cell_type": "markdown",
   "metadata": {},
   "source": [
    "## Generic functions and methods"
   ]
  },
  {
   "cell_type": "markdown",
   "metadata": {},
   "source": [
    "Our code currently is not very flexible. To make it more flexible, we would like to pass in arguments to the `do_roots` function. We can make a version which takes as arguments the functions `f` and `f'`, for example. Functions are \"first-class objects\" in Julia, so they can just be passed around by name.\n",
    "\n",
    "Let's redefine our function `do_roots` to accept these arguments:"
   ]
  },
  {
   "cell_type": "code",
   "execution_count": 52,
   "metadata": {
    "collapsed": false
   },
   "outputs": [
    {
     "data": {
      "text/plain": [
       "do_roots (generic function with 2 methods)"
      ]
     },
     "execution_count": 52,
     "metadata": {},
     "output_type": "execute_result"
    }
   ],
   "source": [
    "function do_roots(f, f′)\n",
    "    initial_conditions = -100:0.01:100\n",
    "    roots = similar(initial_conditions)\n",
    "\n",
    "    for (j, x_0) in enumerate(initial_conditions)\n",
    "        x = x_0\n",
    "\n",
    "        for i in 1:1000\n",
    "            x = x - f(x) / f′(x)\n",
    "        end\n",
    "\n",
    "        roots[j] = x\n",
    "    end\n",
    "    \n",
    "    roots\n",
    "end"
   ]
  },
  {
   "cell_type": "markdown",
   "metadata": {},
   "source": [
    "Note the output that Julia returns: \"generic function with 2 methods\". This is a sign that something interesting is happening. In fact, we have not \"redefined\" the function `do_roots`; rather, we have defined a *new version* of `do_roots`, which accepts a *different set of arguments*. (The collection *and types* of the arguments that a function accepts are called its **type signature**.)\n",
    "\n",
    "Indeed, the function `do_roots` now has *two different methods* or versions:"
   ]
  },
  {
   "cell_type": "code",
   "execution_count": 53,
   "metadata": {
    "collapsed": false
   },
   "outputs": [
    {
     "data": {
      "text/html": [
       "2 methods for generic function <b>do_roots</b>:<ul><li> do_roots() at In[50]:2<li> do_roots(f, f′) at In[52]:2</ul>"
      ],
      "text/plain": [
       "# 2 methods for generic function \"do_roots\":\n",
       "do_roots() at In[50]:2\n",
       "do_roots(f, f′) at In[52]:2"
      ]
     },
     "execution_count": 53,
     "metadata": {},
     "output_type": "execute_result"
    }
   ],
   "source": [
    "methods(do_roots)"
   ]
  },
  {
   "cell_type": "markdown",
   "metadata": {},
   "source": [
    "If we call `do_roots` with no arguments, the first version will be used; calling it with two arguments will call the second version. The process of choosing which \"version\" of a function to call is called *dispatch*. The fundamental fact in Julia is that (almost) all functions are such \"generic functions\" with multiple version, i.e. Julia is one of very few languages that use **multiple dispatch**. This turns out to be very natural for many applications in scientific computing."
   ]
  },
  {
   "cell_type": "markdown",
   "metadata": {},
   "source": [
    "The arguments `f` and `f'` in the second method of `do_roots` are names that are local to the function. We have functions of the same name defined globally, so we can pass those in:"
   ]
  },
  {
   "cell_type": "code",
   "execution_count": 55,
   "metadata": {
    "collapsed": false
   },
   "outputs": [
    {
     "name": "stdout",
     "output_type": "stream",
     "text": [
      "   2.864 seconds      (80064 k allocations: 1222 MB, 5.42% gc time)\n"
     ]
    }
   ],
   "source": [
    "@time do_roots(f, f′);"
   ]
  },
  {
   "cell_type": "markdown",
   "metadata": {},
   "source": [
    "This is faster than the first version of `do_roots`, but much slower than the good version. It turns out that Julia currently *cannot optimize* (inline) functions passed in this way. This is something to bear in mind -- there is (currently) a trade-off between user convenience and speed."
   ]
  },
  {
   "cell_type": "markdown",
   "metadata": {},
   "source": [
    "Julia also has *anonymous* functions, which allow us to pass in a function that we define \"in the moment\", without giving it a name. For example, let's do the exercise with a more interesting function:"
   ]
  },
  {
   "cell_type": "code",
   "execution_count": 61,
   "metadata": {
    "collapsed": false
   },
   "outputs": [
    {
     "name": "stdout",
     "output_type": "stream",
     "text": [
      "  10.517 seconds      (220 M allocations: 3358 MB, 3.56% gc time)\n"
     ]
    }
   ],
   "source": [
    "@time roots = do_roots(x->(x-1)*(x-2)*(x-3), x->3x^2-12x+11);"
   ]
  },
  {
   "cell_type": "markdown",
   "metadata": {},
   "source": [
    "We see that anonymous functions are currently very slow. However, there are workarounds, e.g. the `FastAnon` package."
   ]
  },
  {
   "cell_type": "markdown",
   "metadata": {},
   "source": [
    "Let's visualize the results for this function:"
   ]
  },
  {
   "cell_type": "code",
   "execution_count": 64,
   "metadata": {
    "collapsed": false
   },
   "outputs": [
    {
     "name": "stderr",
     "output_type": "stream",
     "text": [
      "WARNING: ntuple(n::Integer,f::Function) is deprecated, use ntuple(f,n) instead.\n"
     ]
    },
    {
     "data": {
      "image/png": "[encoded data removed]",
      "text/plain": [
       "PyPlot.Figure(PyObject <matplotlib.figure.Figure object at 0x31bef4b90>)"
      ]
     },
     "metadata": {},
     "output_type": "display_data"
    },
    {
     "data": {
      "text/plain": [
       "(-100.0,100.0)"
      ]
     },
     "execution_count": 64,
     "metadata": {},
     "output_type": "execute_result"
    },
    {
     "name": "stderr",
     "output_type": "stream",
     "text": [
      " in depwarn at ./deprecated.jl:62\n",
      " in ntuple at deprecated.jl:49\n",
      " in convert at /Users/dsanders/.julia/v0.4/PyCall/src/conversions.jl:222\n",
      " in convert at /Users/dsanders/.julia/v0.4/PyCall/src/conversions.jl:846\n",
      " in pycall at /Users/dsanders/.julia/v0.4/PyCall/src/PyCall.jl:403\n",
      " in xlim at /Users/dsanders/.julia/v0.4/PyPlot/src/PyPlot.jl:371\n",
      " in include_string at loading.jl:99\n",
      " in execute_request_0x535c5df2 at /Users/dsanders/.julia/v0.4/IJulia/src/execute_request.jl:157\n",
      " in eventloop at /Users/dsanders/.julia/v0.4/IJulia/src/IJulia.jl:123\n",
      " in anonymous at task.jl:365\n",
      "while loading In[64], in expression starting on line 3\n"
     ]
    }
   ],
   "source": [
    "figure(figsize=(6,4))\n",
    "plot(-100:0.01:100, roots)\n",
    "xlim()"
   ]
  },
  {
   "cell_type": "code",
   "execution_count": 66,
   "metadata": {
    "collapsed": false
   },
   "outputs": [
    {
     "data": {
      "image/png": "[encoded data removed]",
      "text/plain": [
       "PyPlot.Figure(PyObject <matplotlib.figure.Figure object at 0x31ca88f10>)"
      ]
     },
     "metadata": {},
     "output_type": "display_data"
    },
    {
     "data": {
      "text/plain": [
       "(1,3)"
      ]
     },
     "execution_count": 66,
     "metadata": {},
     "output_type": "execute_result"
    }
   ],
   "source": [
    "figure(figsize=(6,4))\n",
    "plot(-100:0.01:100, roots)\n",
    "xlim(1, 3)"
   ]
  },
  {
   "cell_type": "markdown",
   "metadata": {},
   "source": [
    "## Complexifying Newton "
   ]
  },
  {
   "cell_type": "markdown",
   "metadata": {},
   "source": [
    "The previous result is still pretty boring. It turns out that the Newton method gets interesting if we look for roots of functions of *complex* numbers. [If you are not familiar with complex numbers, you can think of them as pairs of real numbers that have certain mathematical operations defined.]"
   ]
  },
  {
   "cell_type": "markdown",
   "metadata": {},
   "source": [
    "Let's try to use the Newton method starting from initial conditions distributed in the complex plane, i.e. pairs $a + bi$, where $i = \\sqrt{-1}$. First of all let's see how Julia handles complex numbers:"
   ]
  },
  {
   "cell_type": "code",
   "execution_count": 67,
   "metadata": {
    "collapsed": false
   },
   "outputs": [
    {
     "ename": "LoadError",
     "evalue": "LoadError: DomainError:\nwhile loading In[67], in expression starting on line 1",
     "output_type": "error",
     "traceback": [
      "LoadError: DomainError:\nwhile loading In[67], in expression starting on line 1",
      "",
      " in sqrt at math.jl:139"
     ]
    }
   ],
   "source": [
    "sqrt(-1)"
   ]
  },
  {
   "cell_type": "markdown",
   "metadata": {},
   "source": [
    "Oh dear, that didn't work very well. It turns out that Julia is carefully designed to respect, when possible, the type of the input argument. Indeed, let's ask Julia what it thinks `sqrt` means:"
   ]
  },
  {
   "cell_type": "code",
   "execution_count": 68,
   "metadata": {
    "collapsed": false
   },
   "outputs": [
    {
     "data": {
      "text/plain": [
       "sqrt (generic function with 12 methods)"
      ]
     },
     "execution_count": 68,
     "metadata": {},
     "output_type": "execute_result"
    }
   ],
   "source": [
    "sqrt"
   ]
  },
  {
   "cell_type": "markdown",
   "metadata": {},
   "source": [
    "We see that `sqrt` is a generic function, with the following methods:"
   ]
  },
  {
   "cell_type": "code",
   "execution_count": 69,
   "metadata": {
    "collapsed": false
   },
   "outputs": [
    {
     "data": {
      "text/html": [
       "12 methods for generic function <b>sqrt</b>:<ul><li> sqrt(a::<b>Complex{Float16}</b>) at <a href=\"https://github.com/JuliaLang/julia/tree/dbe94d156bbb07f0c30af6b49a42ab09416f5df7/base/float16.jl#L151\" target=\"_blank\">float16.jl:151</a><li> sqrt<i>{T<:FloatingPoint}</i>(z::<b>Complex{T<:FloatingPoint}</b>) at <a href=\"https://github.com/JuliaLang/julia/tree/dbe94d156bbb07f0c30af6b49a42ab09416f5df7/base/complex.jl#L242\" target=\"_blank\">complex.jl:242</a><li> sqrt(z::<b>Complex{T<:Real}</b>) at <a href=\"https://github.com/JuliaLang/julia/tree/dbe94d156bbb07f0c30af6b49a42ab09416f5df7/base/complex.jl#L266\" target=\"_blank\">complex.jl:266</a><li> sqrt(x::<b>Float64</b>) at <a href=\"https://github.com/JuliaLang/julia/tree/dbe94d156bbb07f0c30af6b49a42ab09416f5df7/base/math.jl#L137\" target=\"_blank\">math.jl:137</a><li> sqrt(x::<b>Float32</b>) at <a href=\"https://github.com/JuliaLang/julia/tree/dbe94d156bbb07f0c30af6b49a42ab09416f5df7/base/math.jl#L138\" target=\"_blank\">math.jl:138</a><li> sqrt(a::<b>Float16</b>) at <a href=\"https://github.com/JuliaLang/julia/tree/dbe94d156bbb07f0c30af6b49a42ab09416f5df7/base/float16.jl#L150\" target=\"_blank\">float16.jl:150</a><li> sqrt(x::<b>Base.MPFR.BigFloat</b>) at <a href=\"https://github.com/JuliaLang/julia/tree/dbe94d156bbb07f0c30af6b49a42ab09416f5df7/base/mpfr.jl#L348\" target=\"_blank\">mpfr.jl:348</a><li> sqrt(x::<b>Base.GMP.BigInt</b>) at <a href=\"https://github.com/JuliaLang/julia/tree/dbe94d156bbb07f0c30af6b49a42ab09416f5df7/base/mpfr.jl#L356\" target=\"_blank\">mpfr.jl:356</a><li> sqrt(x::<b>Real</b>) at <a href=\"https://github.com/JuliaLang/julia/tree/dbe94d156bbb07f0c30af6b49a42ab09416f5df7/base/math.jl#L139\" target=\"_blank\">math.jl:139</a><li> sqrt<i>{T<:Number}</i>(::<b>AbstractArray{T<:Number,1}</b>) at <a href=\"https://github.com/JuliaLang/julia/tree/dbe94d156bbb07f0c30af6b49a42ab09416f5df7/base/operators.jl#L356\" target=\"_blank\">operators.jl:356</a><li> sqrt<i>{T<:Number}</i>(::<b>AbstractArray{T<:Number,2}</b>) at <a href=\"https://github.com/JuliaLang/julia/tree/dbe94d156bbb07f0c30af6b49a42ab09416f5df7/base/operators.jl#L357\" target=\"_blank\">operators.jl:357</a><li> sqrt<i>{T<:Number}</i>(::<b>AbstractArray{T<:Number,N}</b>) at <a href=\"https://github.com/JuliaLang/julia/tree/dbe94d156bbb07f0c30af6b49a42ab09416f5df7/base/operators.jl#L359\" target=\"_blank\">operators.jl:359</a></ul>"
      ],
      "text/plain": [
       "# 12 methods for generic function \"sqrt\":\n",
       "sqrt(a::Complex{Float16}) at float16.jl:151\n",
       "sqrt{T<:FloatingPoint}(z::Complex{T<:FloatingPoint}) at complex.jl:242\n",
       "sqrt(z::Complex{T<:Real}) at complex.jl:266\n",
       "sqrt(x::Float64) at math.jl:137\n",
       "sqrt(x::Float32) at math.jl:138\n",
       "sqrt(a::Float16) at float16.jl:150\n",
       "sqrt(x::Base.MPFR.BigFloat) at mpfr.jl:348\n",
       "sqrt(x::Base.GMP.BigInt) at mpfr.jl:356\n",
       "sqrt(x::Real) at math.jl:139\n",
       "sqrt{T<:Number}(::AbstractArray{T<:Number,1}) at operators.jl:356\n",
       "sqrt{T<:Number}(::AbstractArray{T<:Number,2}) at operators.jl:357\n",
       "sqrt{T<:Number}(::AbstractArray{T<:Number,N}) at operators.jl:359"
      ]
     },
     "execution_count": 69,
     "metadata": {},
     "output_type": "execute_result"
    }
   ],
   "source": [
    "methods(sqrt)"
   ]
  },
  {
   "cell_type": "markdown",
   "metadata": {},
   "source": [
    "Julia gives us a list of the available methods, together with links direct to the source code on GitHub (in IJulia) or locally (in Juno).\n",
    "\n",
    "`sqrt()` acting on a `Float64` returns a `Float64` when it can, or throws a `DomainError` when its argument is negative. To get square roots in the complex plane, we must *start* with a complex number."
   ]
  },
  {
   "cell_type": "markdown",
   "metadata": {},
   "source": [
    "The names of types in Julia start with capital letters, so let's try `Complex`:"
   ]
  },
  {
   "cell_type": "code",
   "execution_count": 71,
   "metadata": {
    "collapsed": false
   },
   "outputs": [
    {
     "data": {
      "text/plain": [
       "Complex{T<:Real}"
      ]
     },
     "execution_count": 71,
     "metadata": {},
     "output_type": "execute_result"
    }
   ],
   "source": [
    "Complex"
   ]
  },
  {
   "cell_type": "markdown",
   "metadata": {},
   "source": [
    "As we will see later, types have functions with the same name that act as **constructors** to make objects of the type. Let's see the available functions with the name `Complex`. Note that output has changed rather a lot between Julia v0.3 and Julia v0.4:"
   ]
  },
  {
   "cell_type": "code",
   "execution_count": 73,
   "metadata": {
    "collapsed": false
   },
   "outputs": [
    {
     "data": {
      "text/plain": [
       "5-element Array{Any,1}:\n",
       " call{T<:Real}(::Type{Complex{T<:Real}}, re::T<:Real, im::T<:Real)\n",
       " call(::Type{Complex{T<:Real}}, x::Real, y::Real) at complex.jl:7 \n",
       " call(::Type{Complex{T<:Real}}, x::Real) at complex.jl:8          \n",
       " call{T}(::Type{T}, arg) at essentials.jl:56                      \n",
       " call{T}(::Type{T}, args...) at essentials.jl:57                  "
      ]
     },
     "execution_count": 73,
     "metadata": {},
     "output_type": "execute_result"
    }
   ],
   "source": [
    "methods(Complex)"
   ]
  },
  {
   "cell_type": "markdown",
   "metadata": {},
   "source": [
    "Now let's try playing with `Complex`:"
   ]
  },
  {
   "cell_type": "code",
   "execution_count": 74,
   "metadata": {
    "collapsed": false
   },
   "outputs": [
    {
     "data": {
      "text/plain": [
       "3 + 0im"
      ]
     },
     "execution_count": 74,
     "metadata": {},
     "output_type": "execute_result"
    }
   ],
   "source": [
    "a = Complex(3)"
   ]
  },
  {
   "cell_type": "code",
   "execution_count": 75,
   "metadata": {
    "collapsed": false
   },
   "outputs": [
    {
     "data": {
      "text/plain": [
       "Complex{Int64}"
      ]
     },
     "execution_count": 75,
     "metadata": {},
     "output_type": "execute_result"
    }
   ],
   "source": [
    "typeof(a)"
   ]
  },
  {
   "cell_type": "code",
   "execution_count": 76,
   "metadata": {
    "collapsed": false
   },
   "outputs": [
    {
     "data": {
      "text/plain": [
       "3.0 + 4.5im"
      ]
     },
     "execution_count": 76,
     "metadata": {},
     "output_type": "execute_result"
    }
   ],
   "source": [
    "b = Complex(3, 4.5)"
   ]
  },
  {
   "cell_type": "code",
   "execution_count": 77,
   "metadata": {
    "collapsed": false
   },
   "outputs": [
    {
     "data": {
      "text/plain": [
       "Complex{Float64}"
      ]
     },
     "execution_count": 77,
     "metadata": {},
     "output_type": "execute_result"
    }
   ],
   "source": [
    "typeof(b)"
   ]
  },
  {
   "cell_type": "markdown",
   "metadata": {},
   "source": [
    "We see that `Complex` is also parametrised by the type of its real and imaginary parts.\n",
    "\n",
    "We can also make complex numbers directly using `im`:"
   ]
  },
  {
   "cell_type": "code",
   "execution_count": 81,
   "metadata": {
    "collapsed": false
   },
   "outputs": [
    {
     "data": {
      "text/plain": [
       "3.0 + 4.0im"
      ]
     },
     "execution_count": 81,
     "metadata": {},
     "output_type": "execute_result"
    }
   ],
   "source": [
    "3.0 + 4.0im"
   ]
  },
  {
   "cell_type": "markdown",
   "metadata": {},
   "source": [
    "(Here, 4.0im is multiplication of 4.0 by `im`, which represents $i$, the imaginary unit.)"
   ]
  },
  {
   "cell_type": "markdown",
   "metadata": {},
   "source": [
    "We can do complex arithmetic:"
   ]
  },
  {
   "cell_type": "code",
   "execution_count": 79,
   "metadata": {
    "collapsed": false
   },
   "outputs": [
    {
     "data": {
      "text/plain": [
       "9.0 + 13.5im"
      ]
     },
     "execution_count": 79,
     "metadata": {},
     "output_type": "execute_result"
    }
   ],
   "source": [
    "a * b"
   ]
  },
  {
   "cell_type": "markdown",
   "metadata": {},
   "source": [
    "What is happening here? Julia knows how to do `*` for complex numbers. Let's ask Julia what `*` is:"
   ]
  },
  {
   "cell_type": "code",
   "execution_count": 82,
   "metadata": {
    "collapsed": false
   },
   "outputs": [
    {
     "data": {
      "text/plain": [
       "* (generic function with 135 methods)"
      ]
     },
     "execution_count": 82,
     "metadata": {},
     "output_type": "execute_result"
    }
   ],
   "source": [
    "*"
   ]
  },
  {
   "cell_type": "markdown",
   "metadata": {},
   "source": [
    "So, mathematical operators *are generic functions too*! We can list all the ways to do `*`:"
   ]
  },
  {
   "cell_type": "code",
   "execution_count": 83,
   "metadata": {
    "collapsed": false
   },
   "outputs": [
    {
     "data": {
      "text/html": [
       "135 methods for generic function <b>*</b>:<ul><li> *(x::<b>Bool</b>, y::<b>Bool</b>) at <a href=\"https://github.com/JuliaLang/julia/tree/dbe94d156bbb07f0c30af6b49a42ab09416f5df7/base/bool.jl#L38\" target=\"_blank\">bool.jl:38</a><li> *<i>{T<:Unsigned}</i>(x::<b>Bool</b>, y::<b>T<:Unsigned</b>) at <a href=\"https://github.com/JuliaLang/julia/tree/dbe94d156bbb07f0c30af6b49a42ab09416f5df7/base/bool.jl#L53\" target=\"_blank\">bool.jl:53</a><li> *(x::<b>Bool</b>, z::<b>Complex{T<:Real}</b>) at <a href=\"https://github.com/JuliaLang/julia/tree/dbe94d156bbb07f0c30af6b49a42ab09416f5df7/base/complex.jl#L116\" target=\"_blank\">complex.jl:116</a><li> *<i>{T<:Number}</i>(x::<b>Bool</b>, y::<b>T<:Number</b>) at <a href=\"https://github.com/JuliaLang/julia/tree/dbe94d156bbb07f0c30af6b49a42ab09416f5df7/base/bool.jl#L49\" target=\"_blank\">bool.jl:49</a><li> *(z::<b>Complex{T<:Real}</b>, x::<b>Bool</b>) at <a href=\"https://github.com/JuliaLang/julia/tree/dbe94d156bbb07f0c30af6b49a42ab09416f5df7/base/complex.jl#L117\" target=\"_blank\">complex.jl:117</a><li> *(y::<b>Number</b>, x::<b>Bool</b>) at <a href=\"https://github.com/JuliaLang/julia/tree/dbe94d156bbb07f0c30af6b49a42ab09416f5df7/base/bool.jl#L55\" target=\"_blank\">bool.jl:55</a><li> *(x::<b>Int8</b>, y::<b>Int8</b>) at <a href=\"https://github.com/JuliaLang/julia/tree/dbe94d156bbb07f0c30af6b49a42ab09416f5df7/base/int.jl#L16\" target=\"_blank\">int.jl:16</a><li> *(x::<b>UInt8</b>, y::<b>UInt8</b>) at <a href=\"https://github.com/JuliaLang/julia/tree/dbe94d156bbb07f0c30af6b49a42ab09416f5df7/base/int.jl#L16\" target=\"_blank\">int.jl:16</a><li> *(x::<b>Int16</b>, y::<b>Int16</b>) at <a href=\"https://github.com/JuliaLang/julia/tree/dbe94d156bbb07f0c30af6b49a42ab09416f5df7/base/int.jl#L16\" target=\"_blank\">int.jl:16</a><li> *(x::<b>UInt16</b>, y::<b>UInt16</b>) at <a href=\"https://github.com/JuliaLang/julia/tree/dbe94d156bbb07f0c30af6b49a42ab09416f5df7/base/int.jl#L16\" target=\"_blank\">int.jl:16</a><li> *(x::<b>Int32</b>, y::<b>Int32</b>) at <a href=\"https://github.com/JuliaLang/julia/tree/dbe94d156bbb07f0c30af6b49a42ab09416f5df7/base/int.jl#L16\" target=\"_blank\">int.jl:16</a><li> *(x::<b>UInt32</b>, y::<b>UInt32</b>) at <a href=\"https://github.com/JuliaLang/julia/tree/dbe94d156bbb07f0c30af6b49a42ab09416f5df7/base/int.jl#L16\" target=\"_blank\">int.jl:16</a><li> *(x::<b>Int64</b>, y::<b>Int64</b>) at <a href=\"https://github.com/JuliaLang/julia/tree/dbe94d156bbb07f0c30af6b49a42ab09416f5df7/base/int.jl#L16\" target=\"_blank\">int.jl:16</a><li> *(x::<b>UInt64</b>, y::<b>UInt64</b>) at <a href=\"https://github.com/JuliaLang/julia/tree/dbe94d156bbb07f0c30af6b49a42ab09416f5df7/base/int.jl#L16\" target=\"_blank\">int.jl:16</a><li> *(x::<b>Int128</b>, y::<b>Int128</b>) at <a href=\"https://github.com/JuliaLang/julia/tree/dbe94d156bbb07f0c30af6b49a42ab09416f5df7/base/int.jl#L456\" target=\"_blank\">int.jl:456</a><li> *(x::<b>UInt128</b>, y::<b>UInt128</b>) at <a href=\"https://github.com/JuliaLang/julia/tree/dbe94d156bbb07f0c30af6b49a42ab09416f5df7/base/int.jl#L457\" target=\"_blank\">int.jl:457</a><li> *(x::<b>Float32</b>, y::<b>Float32</b>) at <a href=\"https://github.com/JuliaLang/julia/tree/dbe94d156bbb07f0c30af6b49a42ab09416f5df7/base/float.jl#L205\" target=\"_blank\">float.jl:205</a><li> *(x::<b>Float64</b>, y::<b>Float64</b>) at <a href=\"https://github.com/JuliaLang/julia/tree/dbe94d156bbb07f0c30af6b49a42ab09416f5df7/base/float.jl#L206\" target=\"_blank\">float.jl:206</a><li> *(z::<b>Complex{T<:Real}</b>, w::<b>Complex{T<:Real}</b>) at <a href=\"https://github.com/JuliaLang/julia/tree/dbe94d156bbb07f0c30af6b49a42ab09416f5df7/base/complex.jl#L112\" target=\"_blank\">complex.jl:112</a><li> *(x::<b>Real</b>, z::<b>Complex{T<:Real}</b>) at <a href=\"https://github.com/JuliaLang/julia/tree/dbe94d156bbb07f0c30af6b49a42ab09416f5df7/base/complex.jl#L118\" target=\"_blank\">complex.jl:118</a><li> *(z::<b>Complex{T<:Real}</b>, x::<b>Real</b>) at <a href=\"https://github.com/JuliaLang/julia/tree/dbe94d156bbb07f0c30af6b49a42ab09416f5df7/base/complex.jl#L119\" target=\"_blank\">complex.jl:119</a><li> *(x::<b>Rational{T<:Integer}</b>, y::<b>Rational{T<:Integer}</b>) at <a href=\"https://github.com/JuliaLang/julia/tree/dbe94d156bbb07f0c30af6b49a42ab09416f5df7/base/rational.jl#L177\" target=\"_blank\">rational.jl:177</a><li> *(a::<b>Float16</b>, b::<b>Float16</b>) at <a href=\"https://github.com/JuliaLang/julia/tree/dbe94d156bbb07f0c30af6b49a42ab09416f5df7/base/float16.jl#L136\" target=\"_blank\">float16.jl:136</a><li> *(x::<b>Base.GMP.BigInt</b>, y::<b>Base.GMP.BigInt</b>) at <a href=\"https://github.com/JuliaLang/julia/tree/dbe94d156bbb07f0c30af6b49a42ab09416f5df7/base/gmp.jl#L244\" target=\"_blank\">gmp.jl:244</a><li> *(a::<b>Base.GMP.BigInt</b>, b::<b>Base.GMP.BigInt</b>, c::<b>Base.GMP.BigInt</b>) at <a href=\"https://github.com/JuliaLang/julia/tree/dbe94d156bbb07f0c30af6b49a42ab09416f5df7/base/gmp.jl#L267\" target=\"_blank\">gmp.jl:267</a><li> *(a::<b>Base.GMP.BigInt</b>, b::<b>Base.GMP.BigInt</b>, c::<b>Base.GMP.BigInt</b>, d::<b>Base.GMP.BigInt</b>) at <a href=\"https://github.com/JuliaLang/julia/tree/dbe94d156bbb07f0c30af6b49a42ab09416f5df7/base/gmp.jl#L273\" target=\"_blank\">gmp.jl:273</a><li> *(a::<b>Base.GMP.BigInt</b>, b::<b>Base.GMP.BigInt</b>, c::<b>Base.GMP.BigInt</b>, d::<b>Base.GMP.BigInt</b>, e::<b>Base.GMP.BigInt</b>) at <a href=\"https://github.com/JuliaLang/julia/tree/dbe94d156bbb07f0c30af6b49a42ab09416f5df7/base/gmp.jl#L280\" target=\"_blank\">gmp.jl:280</a><li> *(x::<b>Base.GMP.BigInt</b>, c::<b>Union{UInt64,UInt16,UInt32,UInt8}</b>) at <a href=\"https://github.com/JuliaLang/julia/tree/dbe94d156bbb07f0c30af6b49a42ab09416f5df7/base/gmp.jl#L314\" target=\"_blank\">gmp.jl:314</a><li> *(c::<b>Union{UInt64,UInt16,UInt32,UInt8}</b>, x::<b>Base.GMP.BigInt</b>) at <a href=\"https://github.com/JuliaLang/julia/tree/dbe94d156bbb07f0c30af6b49a42ab09416f5df7/base/gmp.jl#L318\" target=\"_blank\">gmp.jl:318</a><li> *(x::<b>Base.GMP.BigInt</b>, c::<b>Union{Int8,Int16,Int64,Int32}</b>) at <a href=\"https://github.com/JuliaLang/julia/tree/dbe94d156bbb07f0c30af6b49a42ab09416f5df7/base/gmp.jl#L320\" target=\"_blank\">gmp.jl:320</a><li> *(c::<b>Union{Int8,Int16,Int64,Int32}</b>, x::<b>Base.GMP.BigInt</b>) at <a href=\"https://github.com/JuliaLang/julia/tree/dbe94d156bbb07f0c30af6b49a42ab09416f5df7/base/gmp.jl#L324\" target=\"_blank\">gmp.jl:324</a><li> *(x::<b>Base.MPFR.BigFloat</b>, y::<b>Base.MPFR.BigFloat</b>) at <a href=\"https://github.com/JuliaLang/julia/tree/dbe94d156bbb07f0c30af6b49a42ab09416f5df7/base/mpfr.jl#L206\" target=\"_blank\">mpfr.jl:206</a><li> *(x::<b>Base.MPFR.BigFloat</b>, c::<b>Union{UInt64,UInt16,UInt32,UInt8}</b>) at <a href=\"https://github.com/JuliaLang/julia/tree/dbe94d156bbb07f0c30af6b49a42ab09416f5df7/base/mpfr.jl#L213\" target=\"_blank\">mpfr.jl:213</a><li> *(c::<b>Union{UInt64,UInt16,UInt32,UInt8}</b>, x::<b>Base.MPFR.BigFloat</b>) at <a href=\"https://github.com/JuliaLang/julia/tree/dbe94d156bbb07f0c30af6b49a42ab09416f5df7/base/mpfr.jl#L217\" target=\"_blank\">mpfr.jl:217</a><li> *(x::<b>Base.MPFR.BigFloat</b>, c::<b>Union{Int8,Int16,Int64,Int32}</b>) at <a href=\"https://github.com/JuliaLang/julia/tree/dbe94d156bbb07f0c30af6b49a42ab09416f5df7/base/mpfr.jl#L221\" target=\"_blank\">mpfr.jl:221</a><li> *(c::<b>Union{Int8,Int16,Int64,Int32}</b>, x::<b>Base.MPFR.BigFloat</b>) at <a href=\"https://github.com/JuliaLang/julia/tree/dbe94d156bbb07f0c30af6b49a42ab09416f5df7/base/mpfr.jl#L225\" target=\"_blank\">mpfr.jl:225</a><li> *(x::<b>Base.MPFR.BigFloat</b>, c::<b>Union{Float64,Float32,Float16}</b>) at <a href=\"https://github.com/JuliaLang/julia/tree/dbe94d156bbb07f0c30af6b49a42ab09416f5df7/base/mpfr.jl#L229\" target=\"_blank\">mpfr.jl:229</a><li> *(c::<b>Union{Float64,Float32,Float16}</b>, x::<b>Base.MPFR.BigFloat</b>) at <a href=\"https://github.com/JuliaLang/julia/tree/dbe94d156bbb07f0c30af6b49a42ab09416f5df7/base/mpfr.jl#L233\" target=\"_blank\">mpfr.jl:233</a><li> *(x::<b>Base.MPFR.BigFloat</b>, c::<b>Base.GMP.BigInt</b>) at <a href=\"https://github.com/JuliaLang/julia/tree/dbe94d156bbb07f0c30af6b49a42ab09416f5df7/base/mpfr.jl#L237\" target=\"_blank\">mpfr.jl:237</a><li> *(c::<b>Base.GMP.BigInt</b>, x::<b>Base.MPFR.BigFloat</b>) at <a href=\"https://github.com/JuliaLang/julia/tree/dbe94d156bbb07f0c30af6b49a42ab09416f5df7/base/mpfr.jl#L241\" target=\"_blank\">mpfr.jl:241</a><li> *(a::<b>Base.MPFR.BigFloat</b>, b::<b>Base.MPFR.BigFloat</b>, c::<b>Base.MPFR.BigFloat</b>) at <a href=\"https://github.com/JuliaLang/julia/tree/dbe94d156bbb07f0c30af6b49a42ab09416f5df7/base/mpfr.jl#L318\" target=\"_blank\">mpfr.jl:318</a><li> *(a::<b>Base.MPFR.BigFloat</b>, b::<b>Base.MPFR.BigFloat</b>, c::<b>Base.MPFR.BigFloat</b>, d::<b>Base.MPFR.BigFloat</b>) at <a href=\"https://github.com/JuliaLang/julia/tree/dbe94d156bbb07f0c30af6b49a42ab09416f5df7/base/mpfr.jl#L324\" target=\"_blank\">mpfr.jl:324</a><li> *(a::<b>Base.MPFR.BigFloat</b>, b::<b>Base.MPFR.BigFloat</b>, c::<b>Base.MPFR.BigFloat</b>, d::<b>Base.MPFR.BigFloat</b>, e::<b>Base.MPFR.BigFloat</b>) at <a href=\"https://github.com/JuliaLang/julia/tree/dbe94d156bbb07f0c30af6b49a42ab09416f5df7/base/mpfr.jl#L331\" target=\"_blank\">mpfr.jl:331</a><li> *(x::<b>MathConst{sym}</b>, y::<b>MathConst{sym}</b>) at <a href=\"https://github.com/JuliaLang/julia/tree/dbe94d156bbb07f0c30af6b49a42ab09416f5df7/base/constants.jl#L71\" target=\"_blank\">constants.jl:71</a><li> *<i>{f}</i>(x::<b>FixedPointNumbers.Fixed32{f}</b>, y::<b>FixedPointNumbers.Fixed32{f}</b>) at <a href=\"file:///Users/dsanders/.julia/v0.4/FixedPointNumbers/src/fixed32.jl\" target=\"_blank\">/Users/dsanders/.julia/v0.4/FixedPointNumbers/src/fixed32.jl:36</a><li> *<i>{T,f}</i>(x::<b>FixedPointNumbers.UfixedBase{T,f}</b>, y::<b>FixedPointNumbers.UfixedBase{T,f}</b>) at <a href=\"file:///Users/dsanders/.julia/v0.4/FixedPointNumbers/src/ufixed.jl\" target=\"_blank\">/Users/dsanders/.julia/v0.4/FixedPointNumbers/src/ufixed.jl:87</a><li> *<i>{T<:Number}</i>(x::<b>T<:Number</b>, y::<b>T<:Number</b>) at <a href=\"https://github.com/JuliaLang/julia/tree/dbe94d156bbb07f0c30af6b49a42ab09416f5df7/base/promotion.jl#L206\" target=\"_blank\">promotion.jl:206</a><li> *(x::<b>Number</b>, y::<b>Number</b>) at <a href=\"https://github.com/JuliaLang/julia/tree/dbe94d156bbb07f0c30af6b49a42ab09416f5df7/base/promotion.jl#L168\" target=\"_blank\">promotion.jl:168</a><li> *<i>{N}</i>(a::<b>Integer</b>, index::<b>Base.IteratorsMD.CartesianIndex{N}</b>) at <a href=\"https://github.com/JuliaLang/julia/tree/dbe94d156bbb07f0c30af6b49a42ab09416f5df7/base/multidimensional.jl#L70\" target=\"_blank\">multidimensional.jl:70</a><li> *<i>{T<:Number}</i>(x::<b>T<:Number</b>, D::<b>Base.LinAlg.Diagonal{T}</b>) at <a href=\"https://github.com/JuliaLang/julia/tree/dbe94d156bbb07f0c30af6b49a42ab09416f5df7/base/linalg/diagonal.jl#L66\" target=\"_blank\">linalg/diagonal.jl:66</a><li> *(y::<b>Real</b>, x::<b>Base.Dates.Period</b>) at <a href=\"https://github.com/JuliaLang/julia/tree/dbe94d156bbb07f0c30af6b49a42ab09416f5df7/base/dates/periods.jl#L62\" target=\"_blank\">dates/periods.jl:62</a><li> *<i>{T,f}</i>(n::<b>Integer</b>, ::<b>FixedPointNumbers.UfixedConstructor{T,f}</b>) at <a href=\"file:///Users/dsanders/.julia/v0.4/FixedPointNumbers/src/ufixed.jl\" target=\"_blank\">/Users/dsanders/.julia/v0.4/FixedPointNumbers/src/ufixed.jl:30</a><li> *(s::<b>Real</b>, p::<b>Graphics.Vec2</b>) at <a href=\"file:///Users/dsanders/.julia/v0.4/Graphics/src/Graphics.jl\" target=\"_blank\">/Users/dsanders/.julia/v0.4/Graphics/src/Graphics.jl:64</a><li> *(s::<b>Real</b>, bb::<b>Graphics.BoundingBox</b>) at <a href=\"file:///Users/dsanders/.julia/v0.4/Graphics/src/Graphics.jl\" target=\"_blank\">/Users/dsanders/.julia/v0.4/Graphics/src/Graphics.jl:151</a><li> *<i>{T<:Number,S}</i>(c::<b>T<:Number</b>, p::<b>Polynomials.Poly{S}</b>) at <a href=\"file:///Users/dsanders/.julia/v0.4/Polynomials/src/Polynomials.jl\" target=\"_blank\">/Users/dsanders/.julia/v0.4/Polynomials/src/Polynomials.jl:132</a><li> *(x::<b>Number</b>) at <a href=\"https://github.com/JuliaLang/julia/tree/dbe94d156bbb07f0c30af6b49a42ab09416f5df7/base/operators.jl#L74\" target=\"_blank\">operators.jl:74</a><li> *<i>{T<:Union{Complex{Float32},Float64,Complex{Float64},Float32},S}</i>(A::<b>Union{SubArray{T<:Union{Complex{Float32},Float64,Complex{Float64},Float32},2,A<:DenseArray{T,N},I<:Tuple{Vararg{Union{Colon,Range{Int64},Int64}}},LD},DenseArray{T<:Union{Complex{Float32},Float64,Complex{Float64},Float32},2}}</b>, x::<b>Union{SubArray{S,1,A<:DenseArray{T,N},I<:Tuple{Vararg{Union{Colon,Range{Int64},Int64}}},LD},DenseArray{S,1}}</b>) at <a href=\"https://github.com/JuliaLang/julia/tree/dbe94d156bbb07f0c30af6b49a42ab09416f5df7/base/linalg/matmul.jl#L63\" target=\"_blank\">linalg/matmul.jl:63</a><li> *(A::<b>Base.LinAlg.SymTridiagonal{T}</b>, B::<b>Number</b>) at <a href=\"https://github.com/JuliaLang/julia/tree/dbe94d156bbb07f0c30af6b49a42ab09416f5df7/base/linalg/tridiag.jl#L69\" target=\"_blank\">linalg/tridiag.jl:69</a><li> *(A::<b>Base.LinAlg.Tridiagonal{T}</b>, B::<b>Number</b>) at <a href=\"https://github.com/JuliaLang/julia/tree/dbe94d156bbb07f0c30af6b49a42ab09416f5df7/base/linalg/tridiag.jl#L298\" target=\"_blank\">linalg/tridiag.jl:298</a><li> *(A::<b>Base.LinAlg.UpperTriangular{T,S<:AbstractArray{T,2}}</b>, x::<b>Number</b>) at <a href=\"https://github.com/JuliaLang/julia/tree/dbe94d156bbb07f0c30af6b49a42ab09416f5df7/base/linalg/triangular.jl#L274\" target=\"_blank\">linalg/triangular.jl:274</a><li> *(A::<b>Base.LinAlg.UnitUpperTriangular{T,S<:AbstractArray{T,2}}</b>, x::<b>Number</b>) at <a href=\"https://github.com/JuliaLang/julia/tree/dbe94d156bbb07f0c30af6b49a42ab09416f5df7/base/linalg/triangular.jl#L277\" target=\"_blank\">linalg/triangular.jl:277</a><li> *(A::<b>Base.LinAlg.LowerTriangular{T,S<:AbstractArray{T,2}}</b>, x::<b>Number</b>) at <a href=\"https://github.com/JuliaLang/julia/tree/dbe94d156bbb07f0c30af6b49a42ab09416f5df7/base/linalg/triangular.jl#L274\" target=\"_blank\">linalg/triangular.jl:274</a><li> *(A::<b>Base.LinAlg.UnitLowerTriangular{T,S<:AbstractArray{T,2}}</b>, x::<b>Number</b>) at <a href=\"https://github.com/JuliaLang/julia/tree/dbe94d156bbb07f0c30af6b49a42ab09416f5df7/base/linalg/triangular.jl#L277\" target=\"_blank\">linalg/triangular.jl:277</a><li> *(A::<b>Base.LinAlg.Tridiagonal{T}</b>, B::<b>Base.LinAlg.UpperTriangular{T,S<:AbstractArray{T,2}}</b>) at <a href=\"https://github.com/JuliaLang/julia/tree/dbe94d156bbb07f0c30af6b49a42ab09416f5df7/base/linalg/triangular.jl#L789\" target=\"_blank\">linalg/triangular.jl:789</a><li> *(A::<b>Base.LinAlg.Tridiagonal{T}</b>, B::<b>Base.LinAlg.UnitUpperTriangular{T,S<:AbstractArray{T,2}}</b>) at <a href=\"https://github.com/JuliaLang/julia/tree/dbe94d156bbb07f0c30af6b49a42ab09416f5df7/base/linalg/triangular.jl#L789\" target=\"_blank\">linalg/triangular.jl:789</a><li> *(A::<b>Base.LinAlg.Tridiagonal{T}</b>, B::<b>Base.LinAlg.LowerTriangular{T,S<:AbstractArray{T,2}}</b>) at <a href=\"https://github.com/JuliaLang/julia/tree/dbe94d156bbb07f0c30af6b49a42ab09416f5df7/base/linalg/triangular.jl#L789\" target=\"_blank\">linalg/triangular.jl:789</a><li> *(A::<b>Base.LinAlg.Tridiagonal{T}</b>, B::<b>Base.LinAlg.UnitLowerTriangular{T,S<:AbstractArray{T,2}}</b>) at <a href=\"https://github.com/JuliaLang/julia/tree/dbe94d156bbb07f0c30af6b49a42ab09416f5df7/base/linalg/triangular.jl#L789\" target=\"_blank\">linalg/triangular.jl:789</a><li> *(A::<b>Base.LinAlg.AbstractTriangular{T,S<:AbstractArray{T,2}}</b>, B::<b>Base.LinAlg.AbstractTriangular{T,S<:AbstractArray{T,2}}</b>) at <a href=\"https://github.com/JuliaLang/julia/tree/dbe94d156bbb07f0c30af6b49a42ab09416f5df7/base/linalg/triangular.jl#L795\" target=\"_blank\">linalg/triangular.jl:795</a><li> *<i>{TA,TB}</i>(A::<b>Base.LinAlg.AbstractTriangular{TA,S<:AbstractArray{T,2}}</b>, B::<b>Union{SubArray{TB,2,A<:DenseArray{T,N},I<:Tuple{Vararg{Union{Colon,Range{Int64},Int64}}},LD},SubArray{TB,1,A<:DenseArray{T,N},I<:Tuple{Vararg{Union{Colon,Range{Int64},Int64}}},LD},DenseArray{TB,2},DenseArray{TB,1}}</b>) at <a href=\"https://github.com/JuliaLang/julia/tree/dbe94d156bbb07f0c30af6b49a42ab09416f5df7/base/linalg/triangular.jl#L809\" target=\"_blank\">linalg/triangular.jl:809</a><li> *<i>{TA,TB}</i>(A::<b>Union{DenseArray{TA,1},SubArray{TA,2,A<:DenseArray{T,N},I<:Tuple{Vararg{Union{Colon,Range{Int64},Int64}}},LD},SubArray{TA,1,A<:DenseArray{T,N},I<:Tuple{Vararg{Union{Colon,Range{Int64},Int64}}},LD},DenseArray{TA,2}}</b>, B::<b>Base.LinAlg.AbstractTriangular{TB,S<:AbstractArray{T,2}}</b>) at <a href=\"https://github.com/JuliaLang/julia/tree/dbe94d156bbb07f0c30af6b49a42ab09416f5df7/base/linalg/triangular.jl#L852\" target=\"_blank\">linalg/triangular.jl:852</a><li> *<i>{TA,Tb}</i>(A::<b>Union{Base.LinAlg.QRPackedQ{TA,S<:AbstractArray{T,2}},Base.LinAlg.QRCompactWYQ{TA,M<:AbstractArray{T,2}}}</b>, b::<b>Union{SubArray{Tb,1,A<:DenseArray{T,N},I<:Tuple{Vararg{Union{Colon,Range{Int64},Int64}}},LD},DenseArray{Tb,1}}</b>) at <a href=\"https://github.com/JuliaLang/julia/tree/dbe94d156bbb07f0c30af6b49a42ab09416f5df7/base/linalg/qr.jl#L184\" target=\"_blank\">linalg/qr.jl:184</a><li> *<i>{TA,TB}</i>(A::<b>Union{Base.LinAlg.QRPackedQ{TA,S<:AbstractArray{T,2}},Base.LinAlg.QRCompactWYQ{TA,M<:AbstractArray{T,2}}}</b>, B::<b>Union{SubArray{TB,2,A<:DenseArray{T,N},I<:Tuple{Vararg{Union{Colon,Range{Int64},Int64}}},LD},DenseArray{TB,2}}</b>) at <a href=\"https://github.com/JuliaLang/julia/tree/dbe94d156bbb07f0c30af6b49a42ab09416f5df7/base/linalg/qr.jl#L196\" target=\"_blank\">linalg/qr.jl:196</a><li> *<i>{TA,TQ,N}</i>(A::<b>Union{SubArray{TA,N,A<:DenseArray{T,N},I<:Tuple{Vararg{Union{Colon,Range{Int64},Int64}}},LD},DenseArray{TA,N}}</b>, Q::<b>Union{Base.LinAlg.QRCompactWYQ{TQ,M<:AbstractArray{T,2}},Base.LinAlg.QRPackedQ{TQ,S<:AbstractArray{T,2}}}</b>) at <a href=\"https://github.com/JuliaLang/julia/tree/dbe94d156bbb07f0c30af6b49a42ab09416f5df7/base/linalg/qr.jl#L271\" target=\"_blank\">linalg/qr.jl:271</a><li> *(A::<b>Union{Base.LinAlg.Symmetric{T,S},Base.LinAlg.Hermitian{T,S}}</b>, B::<b>Union{Base.LinAlg.Symmetric{T,S},Base.LinAlg.Hermitian{T,S}}</b>) at <a href=\"https://github.com/JuliaLang/julia/tree/dbe94d156bbb07f0c30af6b49a42ab09416f5df7/base/linalg/symmetric.jl#L58\" target=\"_blank\">linalg/symmetric.jl:58</a><li> *(A::<b>Union{DenseArray{T,2},SubArray{T,2,A<:DenseArray{T,N},I<:Tuple{Vararg{Union{Colon,Range{Int64},Int64}}},LD}}</b>, B::<b>Union{Base.LinAlg.Symmetric{T,S},Base.LinAlg.Hermitian{T,S}}</b>) at <a href=\"https://github.com/JuliaLang/julia/tree/dbe94d156bbb07f0c30af6b49a42ab09416f5df7/base/linalg/symmetric.jl#L59\" target=\"_blank\">linalg/symmetric.jl:59</a><li> *<i>{T<:Number}</i>(D::<b>Base.LinAlg.Diagonal{T}</b>, x::<b>T<:Number</b>) at <a href=\"https://github.com/JuliaLang/julia/tree/dbe94d156bbb07f0c30af6b49a42ab09416f5df7/base/linalg/diagonal.jl#L67\" target=\"_blank\">linalg/diagonal.jl:67</a><li> *(Da::<b>Base.LinAlg.Diagonal{T}</b>, Db::<b>Base.LinAlg.Diagonal{T}</b>) at <a href=\"https://github.com/JuliaLang/julia/tree/dbe94d156bbb07f0c30af6b49a42ab09416f5df7/base/linalg/diagonal.jl#L69\" target=\"_blank\">linalg/diagonal.jl:69</a><li> *(D::<b>Base.LinAlg.Diagonal{T}</b>, V::<b>Array{T,1}</b>) at <a href=\"https://github.com/JuliaLang/julia/tree/dbe94d156bbb07f0c30af6b49a42ab09416f5df7/base/linalg/diagonal.jl#L70\" target=\"_blank\">linalg/diagonal.jl:70</a><li> *(A::<b>Array{T,2}</b>, D::<b>Base.LinAlg.Diagonal{T}</b>) at <a href=\"https://github.com/JuliaLang/julia/tree/dbe94d156bbb07f0c30af6b49a42ab09416f5df7/base/linalg/diagonal.jl#L71\" target=\"_blank\">linalg/diagonal.jl:71</a><li> *(D::<b>Base.LinAlg.Diagonal{T}</b>, A::<b>Array{T,2}</b>) at <a href=\"https://github.com/JuliaLang/julia/tree/dbe94d156bbb07f0c30af6b49a42ab09416f5df7/base/linalg/diagonal.jl#L72\" target=\"_blank\">linalg/diagonal.jl:72</a><li> *(A::<b>Base.LinAlg.Bidiagonal{T}</b>, B::<b>Number</b>) at <a href=\"https://github.com/JuliaLang/julia/tree/dbe94d156bbb07f0c30af6b49a42ab09416f5df7/base/linalg/bidiag.jl#L131\" target=\"_blank\">linalg/bidiag.jl:131</a><li> *(A::<b>Union{Base.LinAlg.SymTridiagonal{T},Base.LinAlg.AbstractTriangular{T,S<:AbstractArray{T,2}},Base.LinAlg.Diagonal{T},Base.LinAlg.Bidiagonal{T},Base.LinAlg.Tridiagonal{T}}</b>, B::<b>Union{Base.LinAlg.SymTridiagonal{T},Base.LinAlg.AbstractTriangular{T,S<:AbstractArray{T,2}},Base.LinAlg.Diagonal{T},Base.LinAlg.Bidiagonal{T},Base.LinAlg.Tridiagonal{T}}</b>) at <a href=\"https://github.com/JuliaLang/julia/tree/dbe94d156bbb07f0c30af6b49a42ab09416f5df7/base/linalg/bidiag.jl#L137\" target=\"_blank\">linalg/bidiag.jl:137</a><li> *<i>{T}</i>(A::<b>Base.LinAlg.Bidiagonal{T}</b>, B::<b>AbstractArray{T,1}</b>) at <a href=\"https://github.com/JuliaLang/julia/tree/dbe94d156bbb07f0c30af6b49a42ab09416f5df7/base/linalg/bidiag.jl#L141\" target=\"_blank\">linalg/bidiag.jl:141</a><li> *(B::<b>BitArray{2}</b>, J::<b>Base.LinAlg.UniformScaling{T<:Number}</b>) at <a href=\"https://github.com/JuliaLang/julia/tree/dbe94d156bbb07f0c30af6b49a42ab09416f5df7/base/linalg/uniformscaling.jl#L72\" target=\"_blank\">linalg/uniformscaling.jl:72</a><li> *<i>{T,S}</i>(s::<b>Base.LinAlg.SVDOperator{T,S}</b>, v::<b>Array{T,1}</b>) at <a href=\"https://github.com/JuliaLang/julia/tree/dbe94d156bbb07f0c30af6b49a42ab09416f5df7/base/linalg/arnoldi.jl#L153\" target=\"_blank\">linalg/arnoldi.jl:153</a><li> *(S::<b>Base.SparseMatrix.SparseMatrixCSC{Tv,Ti<:Integer}</b>, J::<b>Base.LinAlg.UniformScaling{T<:Number}</b>) at <a href=\"https://github.com/JuliaLang/julia/tree/dbe94d156bbb07f0c30af6b49a42ab09416f5df7/base/sparse/linalg.jl#L23\" target=\"_blank\">sparse/linalg.jl:23</a><li> *<i>{Tv,Ti}</i>(A::<b>Base.SparseMatrix.SparseMatrixCSC{Tv,Ti}</b>, B::<b>Base.SparseMatrix.SparseMatrixCSC{Tv,Ti}</b>) at <a href=\"https://github.com/JuliaLang/julia/tree/dbe94d156bbb07f0c30af6b49a42ab09416f5df7/base/sparse/linalg.jl#L168\" target=\"_blank\">sparse/linalg.jl:168</a><li> *<i>{TvA,TiA,TvB,TiB}</i>(A::<b>Base.SparseMatrix.SparseMatrixCSC{TvA,TiA}</b>, B::<b>Base.SparseMatrix.SparseMatrixCSC{TvB,TiB}</b>) at <a href=\"https://github.com/JuliaLang/julia/tree/dbe94d156bbb07f0c30af6b49a42ab09416f5df7/base/sparse/linalg.jl#L29\" target=\"_blank\">sparse/linalg.jl:29</a><li> *<i>{TvA,TiA}</i>(A::<b>Base.SparseMatrix.SparseMatrixCSC{TvA,TiA}</b>, X::<b>BitArray{1}</b>) at <a href=\"https://github.com/JuliaLang/julia/tree/dbe94d156bbb07f0c30af6b49a42ab09416f5df7/base/sparse/linalg.jl#L36\" target=\"_blank\">sparse/linalg.jl:36</a><li> *<i>{TvA,TiA}</i>(A::<b>Base.SparseMatrix.SparseMatrixCSC{TvA,TiA}</b>, X::<b>BitArray{2}</b>) at <a href=\"https://github.com/JuliaLang/julia/tree/dbe94d156bbb07f0c30af6b49a42ab09416f5df7/base/sparse/linalg.jl#L134\" target=\"_blank\">sparse/linalg.jl:134</a><li> *<i>{TA,S,Tx}</i>(A::<b>Base.SparseMatrix.SparseMatrixCSC{TA,S}</b>, x::<b>AbstractArray{Tx,1}</b>) at <a href=\"https://github.com/JuliaLang/julia/tree/dbe94d156bbb07f0c30af6b49a42ab09416f5df7/base/sparse/linalg.jl#L57\" target=\"_blank\">sparse/linalg.jl:57</a><li> *(X::<b>BitArray{1}</b>, A::<b>Base.SparseMatrix.SparseMatrixCSC{Tv,Ti<:Integer}</b>) at <a href=\"https://github.com/JuliaLang/julia/tree/dbe94d156bbb07f0c30af6b49a42ab09416f5df7/base/sparse/linalg.jl#L120\" target=\"_blank\">sparse/linalg.jl:120</a><li> *<i>{TvA,TiA,TX}</i>(A::<b>Base.SparseMatrix.SparseMatrixCSC{TvA,TiA}</b>, X::<b>AbstractArray{TX,2}</b>) at <a href=\"https://github.com/JuliaLang/julia/tree/dbe94d156bbb07f0c30af6b49a42ab09416f5df7/base/sparse/linalg.jl#L136\" target=\"_blank\">sparse/linalg.jl:136</a><li> *<i>{TvA,TiA}</i>(X::<b>BitArray{2}</b>, A::<b>Base.SparseMatrix.SparseMatrixCSC{TvA,TiA}</b>) at <a href=\"https://github.com/JuliaLang/julia/tree/dbe94d156bbb07f0c30af6b49a42ab09416f5df7/base/sparse/linalg.jl#L151\" target=\"_blank\">sparse/linalg.jl:151</a><li> *<i>{TX,TvA,TiA}</i>(X::<b>Base.LinAlg.Tridiagonal{TX}</b>, A::<b>Base.SparseMatrix.SparseMatrixCSC{TvA,TiA}</b>) at <a href=\"https://github.com/JuliaLang/julia/tree/dbe94d156bbb07f0c30af6b49a42ab09416f5df7/base/sparse/linalg.jl#L153\" target=\"_blank\">sparse/linalg.jl:153</a><li> *<i>{TvA,TiA}</i>(X::<b>Base.LinAlg.AbstractTriangular{T,S<:AbstractArray{T,2}}</b>, A::<b>Base.SparseMatrix.SparseMatrixCSC{TvA,TiA}</b>) at <a href=\"https://github.com/JuliaLang/julia/tree/dbe94d156bbb07f0c30af6b49a42ab09416f5df7/base/sparse/linalg.jl#L154\" target=\"_blank\">sparse/linalg.jl:154</a><li> *(A::<b>Base.SparseMatrix.CHOLMOD.Sparse{Tv<:Union{Float64,Complex{Float64}},Ti<:Union{Int64,Int32}}</b>, B::<b>Base.SparseMatrix.CHOLMOD.Sparse{Tv<:Union{Float64,Complex{Float64}},Ti<:Union{Int64,Int32}}</b>) at <a href=\"https://github.com/JuliaLang/julia/tree/dbe94d156bbb07f0c30af6b49a42ab09416f5df7/base/sparse/cholmod.jl#L1071\" target=\"_blank\">sparse/cholmod.jl:1071</a><li> *(A::<b>Base.SparseMatrix.CHOLMOD.Sparse{Tv<:Union{Float64,Complex{Float64}},Ti<:Union{Int64,Int32}}</b>, B::<b>Base.SparseMatrix.CHOLMOD.Dense{T<:Union{Float64,Complex{Float64}}}</b>) at <a href=\"https://github.com/JuliaLang/julia/tree/dbe94d156bbb07f0c30af6b49a42ab09416f5df7/base/sparse/cholmod.jl#L1072\" target=\"_blank\">sparse/cholmod.jl:1072</a><li> *(A::<b>Base.SparseMatrix.CHOLMOD.Sparse{Tv<:Union{Float64,Complex{Float64}},Ti<:Union{Int64,Int32}}</b>, B::<b>Union{Array{T,1},Array{T,2}}</b>) at <a href=\"https://github.com/JuliaLang/julia/tree/dbe94d156bbb07f0c30af6b49a42ab09416f5df7/base/sparse/cholmod.jl#L1073\" target=\"_blank\">sparse/cholmod.jl:1073</a><li> *<i>{T<:Number}</i>(x::<b>AbstractArray{T<:Number,2}</b>) at <a href=\"https://github.com/JuliaLang/julia/tree/dbe94d156bbb07f0c30af6b49a42ab09416f5df7/base/abstractarraymath.jl#L50\" target=\"_blank\">abstractarraymath.jl:50</a><li> *(B::<b>Number</b>, A::<b>Base.LinAlg.SymTridiagonal{T}</b>) at <a href=\"https://github.com/JuliaLang/julia/tree/dbe94d156bbb07f0c30af6b49a42ab09416f5df7/base/linalg/tridiag.jl#L70\" target=\"_blank\">linalg/tridiag.jl:70</a><li> *(B::<b>Number</b>, A::<b>Base.LinAlg.Tridiagonal{T}</b>) at <a href=\"https://github.com/JuliaLang/julia/tree/dbe94d156bbb07f0c30af6b49a42ab09416f5df7/base/linalg/tridiag.jl#L299\" target=\"_blank\">linalg/tridiag.jl:299</a><li> *(x::<b>Number</b>, A::<b>Base.LinAlg.UpperTriangular{T,S<:AbstractArray{T,2}}</b>) at <a href=\"https://github.com/JuliaLang/julia/tree/dbe94d156bbb07f0c30af6b49a42ab09416f5df7/base/linalg/triangular.jl#L284\" target=\"_blank\">linalg/triangular.jl:284</a><li> *(x::<b>Number</b>, A::<b>Base.LinAlg.UnitUpperTriangular{T,S<:AbstractArray{T,2}}</b>) at <a href=\"https://github.com/JuliaLang/julia/tree/dbe94d156bbb07f0c30af6b49a42ab09416f5df7/base/linalg/triangular.jl#L287\" target=\"_blank\">linalg/triangular.jl:287</a><li> *(x::<b>Number</b>, A::<b>Base.LinAlg.LowerTriangular{T,S<:AbstractArray{T,2}}</b>) at <a href=\"https://github.com/JuliaLang/julia/tree/dbe94d156bbb07f0c30af6b49a42ab09416f5df7/base/linalg/triangular.jl#L284\" target=\"_blank\">linalg/triangular.jl:284</a><li> *(x::<b>Number</b>, A::<b>Base.LinAlg.UnitLowerTriangular{T,S<:AbstractArray{T,2}}</b>) at <a href=\"https://github.com/JuliaLang/julia/tree/dbe94d156bbb07f0c30af6b49a42ab09416f5df7/base/linalg/triangular.jl#L287\" target=\"_blank\">linalg/triangular.jl:287</a><li> *(B::<b>Number</b>, A::<b>Base.LinAlg.Bidiagonal{T}</b>) at <a href=\"https://github.com/JuliaLang/julia/tree/dbe94d156bbb07f0c30af6b49a42ab09416f5df7/base/linalg/bidiag.jl#L132\" target=\"_blank\">linalg/bidiag.jl:132</a><li> *(A::<b>Number</b>, B::<b>AbstractArray{T,N}</b>) at <a href=\"https://github.com/JuliaLang/julia/tree/dbe94d156bbb07f0c30af6b49a42ab09416f5df7/base/abstractarraymath.jl#L54\" target=\"_blank\">abstractarraymath.jl:54</a><li> *(A::<b>AbstractArray{T,N}</b>, B::<b>Number</b>) at <a href=\"https://github.com/JuliaLang/julia/tree/dbe94d156bbb07f0c30af6b49a42ab09416f5df7/base/abstractarraymath.jl#L55\" target=\"_blank\">abstractarraymath.jl:55</a><li> *(s1::<b>AbstractString</b>, ss::<b>AbstractString...</b>) at <a href=\"https://github.com/JuliaLang/julia/tree/dbe94d156bbb07f0c30af6b49a42ab09416f5df7/base/string.jl#L80\" target=\"_blank\">string.jl:80</a><li> *(this::<b>Base.Grisu.Float</b>, other::<b>Base.Grisu.Float</b>) at <a href=\"https://github.com/JuliaLang/julia/tree/dbe94d156bbb07f0c30af6b49a42ab09416f5df7/base/grisu/float.jl#L138\" target=\"_blank\">grisu/float.jl:138</a><li> *(index::<b>Base.IteratorsMD.CartesianIndex{N}</b>, a::<b>Integer</b>) at <a href=\"https://github.com/JuliaLang/julia/tree/dbe94d156bbb07f0c30af6b49a42ab09416f5df7/base/multidimensional.jl#L74\" target=\"_blank\">multidimensional.jl:74</a><li> *<i>{T,S}</i>(A::<b>AbstractArray{T,2}</b>, B::<b>Union{SubArray{S,2,A<:DenseArray{T,N},I<:Tuple{Vararg{Union{Colon,Range{Int64},Int64}}},LD},DenseArray{S,2}}</b>) at <a href=\"https://github.com/JuliaLang/julia/tree/dbe94d156bbb07f0c30af6b49a42ab09416f5df7/base/linalg/matmul.jl#L112\" target=\"_blank\">linalg/matmul.jl:112</a><li> *<i>{TX,TvA,TiA}</i>(X::<b>AbstractArray{TX,2}</b>, A::<b>Base.SparseMatrix.SparseMatrixCSC{TvA,TiA}</b>) at <a href=\"https://github.com/JuliaLang/julia/tree/dbe94d156bbb07f0c30af6b49a42ab09416f5df7/base/sparse/linalg.jl#L156\" target=\"_blank\">sparse/linalg.jl:156</a><li> *<i>{T,S}</i>(A::<b>AbstractArray{T,2}</b>, x::<b>AbstractArray{S,1}</b>) at <a href=\"https://github.com/JuliaLang/julia/tree/dbe94d156bbb07f0c30af6b49a42ab09416f5df7/base/linalg/matmul.jl#L67\" target=\"_blank\">linalg/matmul.jl:67</a><li> *<i>{T1,T2}</i>(X::<b>AbstractArray{T1,1}</b>, A::<b>Base.SparseMatrix.SparseMatrixCSC{T2,Ti<:Integer}</b>) at <a href=\"https://github.com/JuliaLang/julia/tree/dbe94d156bbb07f0c30af6b49a42ab09416f5df7/base/sparse/linalg.jl#L124\" target=\"_blank\">sparse/linalg.jl:124</a><li> *(A::<b>AbstractArray{T,1}</b>, B::<b>AbstractArray{T,2}</b>) at <a href=\"https://github.com/JuliaLang/julia/tree/dbe94d156bbb07f0c30af6b49a42ab09416f5df7/base/linalg/matmul.jl#L70\" target=\"_blank\">linalg/matmul.jl:70</a><li> *(J1::<b>Base.LinAlg.UniformScaling{T<:Number}</b>, J2::<b>Base.LinAlg.UniformScaling{T<:Number}</b>) at <a href=\"https://github.com/JuliaLang/julia/tree/dbe94d156bbb07f0c30af6b49a42ab09416f5df7/base/linalg/uniformscaling.jl#L71\" target=\"_blank\">linalg/uniformscaling.jl:71</a><li> *(J::<b>Base.LinAlg.UniformScaling{T<:Number}</b>, B::<b>BitArray{2}</b>) at <a href=\"https://github.com/JuliaLang/julia/tree/dbe94d156bbb07f0c30af6b49a42ab09416f5df7/base/linalg/uniformscaling.jl#L73\" target=\"_blank\">linalg/uniformscaling.jl:73</a><li> *(A::<b>AbstractArray{T,2}</b>, J::<b>Base.LinAlg.UniformScaling{T<:Number}</b>) at <a href=\"https://github.com/JuliaLang/julia/tree/dbe94d156bbb07f0c30af6b49a42ab09416f5df7/base/linalg/uniformscaling.jl#L74\" target=\"_blank\">linalg/uniformscaling.jl:74</a><li> *<i>{Tv,Ti}</i>(J::<b>Base.LinAlg.UniformScaling{T<:Number}</b>, S::<b>Base.SparseMatrix.SparseMatrixCSC{Tv,Ti}</b>) at <a href=\"https://github.com/JuliaLang/julia/tree/dbe94d156bbb07f0c30af6b49a42ab09416f5df7/base/sparse/linalg.jl#L24\" target=\"_blank\">sparse/linalg.jl:24</a><li> *(J::<b>Base.LinAlg.UniformScaling{T<:Number}</b>, A::<b>Union{AbstractArray{T,1},AbstractArray{T,2}}</b>) at <a href=\"https://github.com/JuliaLang/julia/tree/dbe94d156bbb07f0c30af6b49a42ab09416f5df7/base/linalg/uniformscaling.jl#L75\" target=\"_blank\">linalg/uniformscaling.jl:75</a><li> *(x::<b>Number</b>, J::<b>Base.LinAlg.UniformScaling{T<:Number}</b>) at <a href=\"https://github.com/JuliaLang/julia/tree/dbe94d156bbb07f0c30af6b49a42ab09416f5df7/base/linalg/uniformscaling.jl#L77\" target=\"_blank\">linalg/uniformscaling.jl:77</a><li> *(J::<b>Base.LinAlg.UniformScaling{T<:Number}</b>, x::<b>Number</b>) at <a href=\"https://github.com/JuliaLang/julia/tree/dbe94d156bbb07f0c30af6b49a42ab09416f5df7/base/linalg/uniformscaling.jl#L78\" target=\"_blank\">linalg/uniformscaling.jl:78</a><li> *<i>{T,S}</i>(R::<b>Base.LinAlg.AbstractRotation{T}</b>, A::<b>AbstractArray{S,2}</b>) at <a href=\"https://github.com/JuliaLang/julia/tree/dbe94d156bbb07f0c30af6b49a42ab09416f5df7/base/linalg/givens.jl#L9\" target=\"_blank\">linalg/givens.jl:9</a><li> *<i>{T}</i>(G1::<b>Base.LinAlg.Givens{T}</b>, G2::<b>Base.LinAlg.Givens{T}</b>) at <a href=\"https://github.com/JuliaLang/julia/tree/dbe94d156bbb07f0c30af6b49a42ab09416f5df7/base/linalg/givens.jl#L282\" target=\"_blank\">linalg/givens.jl:282</a><li> *<i>{P<:Base.Dates.Period}</i>(x::<b>P<:Base.Dates.Period</b>, y::<b>Real</b>) at <a href=\"https://github.com/JuliaLang/julia/tree/dbe94d156bbb07f0c30af6b49a42ab09416f5df7/base/dates/periods.jl#L61\" target=\"_blank\">dates/periods.jl:61</a><li> *(p::<b>Graphics.Vec2</b>, s::<b>Real</b>) at <a href=\"file:///Users/dsanders/.julia/v0.4/Graphics/src/Graphics.jl\" target=\"_blank\">/Users/dsanders/.julia/v0.4/Graphics/src/Graphics.jl:62</a><li> *(bb::<b>Graphics.BoundingBox</b>, s::<b>Real</b>) at <a href=\"file:///Users/dsanders/.julia/v0.4/Graphics/src/Graphics.jl\" target=\"_blank\">/Users/dsanders/.julia/v0.4/Graphics/src/Graphics.jl:147</a><li> *(c::<b>Number</b>, a::<b>Color.XYZ{T<:Union{FixedPointNumbers.FixedPoint,FloatingPoint}}</b>) at <a href=\"file:///Users/dsanders/.julia/v0.4/Color/src/colorspaces.jl\" target=\"_blank\">/Users/dsanders/.julia/v0.4/Color/src/colorspaces.jl:334</a><li> *<i>{T<:Color.ColorValue{T}}</i>(c::<b>Number</b>, a::<b>T<:Color.ColorValue{T}</b>) at <a href=\"file:///Users/dsanders/.julia/v0.4/Color/src/colorspaces.jl\" target=\"_blank\">/Users/dsanders/.julia/v0.4/Color/src/colorspaces.jl:338</a><li> *<i>{T<:Number,S}</i>(p::<b>Polynomials.Poly{S}</b>, c::<b>T<:Number</b>) at <a href=\"file:///Users/dsanders/.julia/v0.4/Polynomials/src/Polynomials.jl\" target=\"_blank\">/Users/dsanders/.julia/v0.4/Polynomials/src/Polynomials.jl:133</a><li> *<i>{T,S}</i>(p1::<b>Polynomials.Poly{T}</b>, p2::<b>Polynomials.Poly{S}</b>) at <a href=\"file:///Users/dsanders/.julia/v0.4/Polynomials/src/Polynomials.jl\" target=\"_blank\">/Users/dsanders/.julia/v0.4/Polynomials/src/Polynomials.jl:173</a><li> *(a, b, c) at <a href=\"https://github.com/JuliaLang/julia/tree/dbe94d156bbb07f0c30af6b49a42ab09416f5df7/base/operators.jl#L84\" target=\"_blank\">operators.jl:84</a><li> *(a, b, c, xs...) at <a href=\"https://github.com/JuliaLang/julia/tree/dbe94d156bbb07f0c30af6b49a42ab09416f5df7/base/operators.jl#L85\" target=\"_blank\">operators.jl:85</a></ul>"
      ],
      "text/plain": [
       "# 135 methods for generic function \"*\":\n",
       "*(x::Bool, y::Bool) at bool.jl:38\n",
       "*{T<:Unsigned}(x::Bool, y::T<:Unsigned) at bool.jl:53\n",
       "*(x::Bool, z::Complex{T<:Real}) at complex.jl:116\n",
       "*{T<:Number}(x::Bool, y::T<:Number) at bool.jl:49\n",
       "*(z::Complex{T<:Real}, x::Bool) at complex.jl:117\n",
       "*(y::Number, x::Bool) at bool.jl:55\n",
       "*(x::Int8, y::Int8) at int.jl:16\n",
       "*(x::UInt8, y::UInt8) at int.jl:16\n",
       "*(x::Int16, y::Int16) at int.jl:16\n",
       "*(x::UInt16, y::UInt16) at int.jl:16\n",
       "*(x::Int32, y::Int32) at int.jl:16\n",
       "*(x::UInt32, y::UInt32) at int.jl:16\n",
       "*(x::Int64, y::Int64) at int.jl:16\n",
       "*(x::UInt64, y::UInt64) at int.jl:16\n",
       "*(x::Int128, y::Int128) at int.jl:456\n",
       "*(x::UInt128, y::UInt128) at int.jl:457\n",
       "*(x::Float32, y::Float32) at float.jl:205\n",
       "*(x::Float64, y::Float64) at float.jl:206\n",
       "*(z::Complex{T<:Real}, w::Complex{T<:Real}) at complex.jl:112\n",
       "*(x::Real, z::Complex{T<:Real}) at complex.jl:118\n",
       "*(z::Complex{T<:Real}, x::Real) at complex.jl:119\n",
       "*(x::Rational{T<:Integer}, y::Rational{T<:Integer}) at rational.jl:177\n",
       "*(a::Float16, b::Float16) at float16.jl:136\n",
       "*(x::Base.GMP.BigInt, y::Base.GMP.BigInt) at gmp.jl:244\n",
       "*(a::Base.GMP.BigInt, b::Base.GMP.BigInt, c::Base.GMP.BigInt) at gmp.jl:267\n",
       "*(a::Base.GMP.BigInt, b::Base.GMP.BigInt, c::Base.GMP.BigInt, d::Base.GMP.BigInt) at gmp.jl:273\n",
       "*(a::Base.GMP.BigInt, b::Base.GMP.BigInt, c::Base.GMP.BigInt, d::Base.GMP.BigInt, e::Base.GMP.BigInt) at gmp.jl:280\n",
       "*(x::Base.GMP.BigInt, c::Union{UInt64,UInt16,UInt32,UInt8}) at gmp.jl:314\n",
       "*(c::Union{UInt64,UInt16,UInt32,UInt8}, x::Base.GMP.BigInt) at gmp.jl:318\n",
       "*(x::Base.GMP.BigInt, c::Union{Int8,Int16,Int64,Int32}) at gmp.jl:320\n",
       "*(c::Union{Int8,Int16,Int64,Int32}, x::Base.GMP.BigInt) at gmp.jl:324\n",
       "*(x::Base.MPFR.BigFloat, y::Base.MPFR.BigFloat) at mpfr.jl:206\n",
       "*(x::Base.MPFR.BigFloat, c::Union{UInt64,UInt16,UInt32,UInt8}) at mpfr.jl:213\n",
       "*(c::Union{UInt64,UInt16,UInt32,UInt8}, x::Base.MPFR.BigFloat) at mpfr.jl:217\n",
       "*(x::Base.MPFR.BigFloat, c::Union{Int8,Int16,Int64,Int32}) at mpfr.jl:221\n",
       "*(c::Union{Int8,Int16,Int64,Int32}, x::Base.MPFR.BigFloat) at mpfr.jl:225\n",
       "*(x::Base.MPFR.BigFloat, c::Union{Float64,Float32,Float16}) at mpfr.jl:229\n",
       "*(c::Union{Float64,Float32,Float16}, x::Base.MPFR.BigFloat) at mpfr.jl:233\n",
       "*(x::Base.MPFR.BigFloat, c::Base.GMP.BigInt) at mpfr.jl:237\n",
       "*(c::Base.GMP.BigInt, x::Base.MPFR.BigFloat) at mpfr.jl:241\n",
       "*(a::Base.MPFR.BigFloat, b::Base.MPFR.BigFloat, c::Base.MPFR.BigFloat) at mpfr.jl:318\n",
       "*(a::Base.MPFR.BigFloat, b::Base.MPFR.BigFloat, c::Base.MPFR.BigFloat, d::Base.MPFR.BigFloat) at mpfr.jl:324\n",
       "*(a::Base.MPFR.BigFloat, b::Base.MPFR.BigFloat, c::Base.MPFR.BigFloat, d::Base.MPFR.BigFloat, e::Base.MPFR.BigFloat) at mpfr.jl:331\n",
       "*(x::MathConst{sym}, y::MathConst{sym}) at constants.jl:71\n",
       "*{f}(x::FixedPointNumbers.Fixed32{f}, y::FixedPointNumbers.Fixed32{f}) at /Users/dsanders/.julia/v0.4/FixedPointNumbers/src/fixed32.jl:36\n",
       "*{T,f}(x::FixedPointNumbers.UfixedBase{T,f}, y::FixedPointNumbers.UfixedBase{T,f}) at /Users/dsanders/.julia/v0.4/FixedPointNumbers/src/ufixed.jl:87\n",
       "*{T<:Number}(x::T<:Number, y::T<:Number) at promotion.jl:206\n",
       "*(x::Number, y::Number) at promotion.jl:168\n",
       "*{N}(a::Integer, index::Base.IteratorsMD.CartesianIndex{N}) at multidimensional.jl:70\n",
       "*{T<:Number}(x::T<:Number, D::Base.LinAlg.Diagonal{T}) at linalg/diagonal.jl:66\n",
       "*(y::Real, x::Base.Dates.Period) at dates/periods.jl:62\n",
       "*{T,f}(n::Integer, ::FixedPointNumbers.UfixedConstructor{T,f}) at /Users/dsanders/.julia/v0.4/FixedPointNumbers/src/ufixed.jl:30\n",
       "*(s::Real, p::Graphics.Vec2) at /Users/dsanders/.julia/v0.4/Graphics/src/Graphics.jl:64\n",
       "*(s::Real, bb::Graphics.BoundingBox) at /Users/dsanders/.julia/v0.4/Graphics/src/Graphics.jl:151\n",
       "*{T<:Number,S}(c::T<:Number, p::Polynomials.Poly{S}) at /Users/dsanders/.julia/v0.4/Polynomials/src/Polynomials.jl:132\n",
       "*(x::Number) at operators.jl:74\n",
       "*{T<:Union{Complex{Float32},Float64,Complex{Float64},Float32},S}(A::Union{SubArray{T<:Union{Complex{Float32},Float64,Complex{Float64},Float32},2,A<:DenseArray{T,N},I<:Tuple{Vararg{Union{Colon,Range{Int64},Int64}}},LD},DenseArray{T<:Union{Complex{Float32},Float64,Complex{Float64},Float32},2}}, x::Union{SubArray{S,1,A<:DenseArray{T,N},I<:Tuple{Vararg{Union{Colon,Range{Int64},Int64}}},LD},DenseArray{S,1}}) at linalg/matmul.jl:63\n",
       "*(A::Base.LinAlg.SymTridiagonal{T}, B::Number) at linalg/tridiag.jl:69\n",
       "*(A::Base.LinAlg.Tridiagonal{T}, B::Number) at linalg/tridiag.jl:298\n",
       "*(A::Base.LinAlg.UpperTriangular{T,S<:AbstractArray{T,2}}, x::Number) at linalg/triangular.jl:274\n",
       "*(A::Base.LinAlg.UnitUpperTriangular{T,S<:AbstractArray{T,2}}, x::Number) at linalg/triangular.jl:277\n",
       "*(A::Base.LinAlg.LowerTriangular{T,S<:AbstractArray{T,2}}, x::Number) at linalg/triangular.jl:274\n",
       "*(A::Base.LinAlg.UnitLowerTriangular{T,S<:AbstractArray{T,2}}, x::Number) at linalg/triangular.jl:277\n",
       "*(A::Base.LinAlg.Tridiagonal{T}, B::Base.LinAlg.UpperTriangular{T,S<:AbstractArray{T,2}}) at linalg/triangular.jl:789\n",
       "*(A::Base.LinAlg.Tridiagonal{T}, B::Base.LinAlg.UnitUpperTriangular{T,S<:AbstractArray{T,2}}) at linalg/triangular.jl:789\n",
       "*(A::Base.LinAlg.Tridiagonal{T}, B::Base.LinAlg.LowerTriangular{T,S<:AbstractArray{T,2}}) at linalg/triangular.jl:789\n",
       "*(A::Base.LinAlg.Tridiagonal{T}, B::Base.LinAlg.UnitLowerTriangular{T,S<:AbstractArray{T,2}}) at linalg/triangular.jl:789\n",
       "*(A::Base.LinAlg.AbstractTriangular{T,S<:AbstractArray{T,2}}, B::Base.LinAlg.AbstractTriangular{T,S<:AbstractArray{T,2}}) at linalg/triangular.jl:795\n",
       "*{TA,TB}(A::Base.LinAlg.AbstractTriangular{TA,S<:AbstractArray{T,2}}, B::Union{SubArray{TB,2,A<:DenseArray{T,N},I<:Tuple{Vararg{Union{Colon,Range{Int64},Int64}}},LD},SubArray{TB,1,A<:DenseArray{T,N},I<:Tuple{Vararg{Union{Colon,Range{Int64},Int64}}},LD},DenseArray{TB,2},DenseArray{TB,1}}) at linalg/triangular.jl:809\n",
       "*{TA,TB}(A::Union{DenseArray{TA,1},SubArray{TA,2,A<:DenseArray{T,N},I<:Tuple{Vararg{Union{Colon,Range{Int64},Int64}}},LD},SubArray{TA,1,A<:DenseArray{T,N},I<:Tuple{Vararg{Union{Colon,Range{Int64},Int64}}},LD},DenseArray{TA,2}}, B::Base.LinAlg.AbstractTriangular{TB,S<:AbstractArray{T,2}}) at linalg/triangular.jl:852\n",
       "*{TA,Tb}(A::Union{Base.LinAlg.QRPackedQ{TA,S<:AbstractArray{T,2}},Base.LinAlg.QRCompactWYQ{TA,M<:AbstractArray{T,2}}}, b::Union{SubArray{Tb,1,A<:DenseArray{T,N},I<:Tuple{Vararg{Union{Colon,Range{Int64},Int64}}},LD},DenseArray{Tb,1}}) at linalg/qr.jl:184\n",
       "*{TA,TB}(A::Union{Base.LinAlg.QRPackedQ{TA,S<:AbstractArray{T,2}},Base.LinAlg.QRCompactWYQ{TA,M<:AbstractArray{T,2}}}, B::Union{SubArray{TB,2,A<:DenseArray{T,N},I<:Tuple{Vararg{Union{Colon,Range{Int64},Int64}}},LD},DenseArray{TB,2}}) at linalg/qr.jl:196\n",
       "*{TA,TQ,N}(A::Union{SubArray{TA,N,A<:DenseArray{T,N},I<:Tuple{Vararg{Union{Colon,Range{Int64},Int64}}},LD},DenseArray{TA,N}}, Q::Union{Base.LinAlg.QRCompactWYQ{TQ,M<:AbstractArray{T,2}},Base.LinAlg.QRPackedQ{TQ,S<:AbstractArray{T,2}}}) at linalg/qr.jl:271\n",
       "*(A::Union{Base.LinAlg.Symmetric{T,S},Base.LinAlg.Hermitian{T,S}}, B::Union{Base.LinAlg.Symmetric{T,S},Base.LinAlg.Hermitian{T,S}}) at linalg/symmetric.jl:58\n",
       "*(A::Union{DenseArray{T,2},SubArray{T,2,A<:DenseArray{T,N},I<:Tuple{Vararg{Union{Colon,Range{Int64},Int64}}},LD}}, B::Union{Base.LinAlg.Symmetric{T,S},Base.LinAlg.Hermitian{T,S}}) at linalg/symmetric.jl:59\n",
       "*{T<:Number}(D::Base.LinAlg.Diagonal{T}, x::T<:Number) at linalg/diagonal.jl:67\n",
       "*(Da::Base.LinAlg.Diagonal{T}, Db::Base.LinAlg.Diagonal{T}) at linalg/diagonal.jl:69\n",
       "*(D::Base.LinAlg.Diagonal{T}, V::Array{T,1}) at linalg/diagonal.jl:70\n",
       "*(A::Array{T,2}, D::Base.LinAlg.Diagonal{T}) at linalg/diagonal.jl:71\n",
       "*(D::Base.LinAlg.Diagonal{T}, A::Array{T,2}) at linalg/diagonal.jl:72\n",
       "*(A::Base.LinAlg.Bidiagonal{T}, B::Number) at linalg/bidiag.jl:131\n",
       "*(A::Union{Base.LinAlg.SymTridiagonal{T},Base.LinAlg.AbstractTriangular{T,S<:AbstractArray{T,2}},Base.LinAlg.Diagonal{T},Base.LinAlg.Bidiagonal{T},Base.LinAlg.Tridiagonal{T}}, B::Union{Base.LinAlg.SymTridiagonal{T},Base.LinAlg.AbstractTriangular{T,S<:AbstractArray{T,2}},Base.LinAlg.Diagonal{T},Base.LinAlg.Bidiagonal{T},Base.LinAlg.Tridiagonal{T}}) at linalg/bidiag.jl:137\n",
       "*{T}(A::Base.LinAlg.Bidiagonal{T}, B::AbstractArray{T,1}) at linalg/bidiag.jl:141\n",
       "*(B::BitArray{2}, J::Base.LinAlg.UniformScaling{T<:Number}) at linalg/uniformscaling.jl:72\n",
       "*{T,S}(s::Base.LinAlg.SVDOperator{T,S}, v::Array{T,1}) at linalg/arnoldi.jl:153\n",
       "*(S::Base.SparseMatrix.SparseMatrixCSC{Tv,Ti<:Integer}, J::Base.LinAlg.UniformScaling{T<:Number}) at sparse/linalg.jl:23\n",
       "*{Tv,Ti}(A::Base.SparseMatrix.SparseMatrixCSC{Tv,Ti}, B::Base.SparseMatrix.SparseMatrixCSC{Tv,Ti}) at sparse/linalg.jl:168\n",
       "*{TvA,TiA,TvB,TiB}(A::Base.SparseMatrix.SparseMatrixCSC{TvA,TiA}, B::Base.SparseMatrix.SparseMatrixCSC{TvB,TiB}) at sparse/linalg.jl:29\n",
       "*{TvA,TiA}(A::Base.SparseMatrix.SparseMatrixCSC{TvA,TiA}, X::BitArray{1}) at sparse/linalg.jl:36\n",
       "*{TvA,TiA}(A::Base.SparseMatrix.SparseMatrixCSC{TvA,TiA}, X::BitArray{2}) at sparse/linalg.jl:134\n",
       "*{TA,S,Tx}(A::Base.SparseMatrix.SparseMatrixCSC{TA,S}, x::AbstractArray{Tx,1}) at sparse/linalg.jl:57\n",
       "*(X::BitArray{1}, A::Base.SparseMatrix.SparseMatrixCSC{Tv,Ti<:Integer}) at sparse/linalg.jl:120\n",
       "*{TvA,TiA,TX}(A::Base.SparseMatrix.SparseMatrixCSC{TvA,TiA}, X::AbstractArray{TX,2}) at sparse/linalg.jl:136\n",
       "*{TvA,TiA}(X::BitArray{2}, A::Base.SparseMatrix.SparseMatrixCSC{TvA,TiA}) at sparse/linalg.jl:151\n",
       "*{TX,TvA,TiA}(X::Base.LinAlg.Tridiagonal{TX}, A::Base.SparseMatrix.SparseMatrixCSC{TvA,TiA}) at sparse/linalg.jl:153\n",
       "*{TvA,TiA}(X::Base.LinAlg.AbstractTriangular{T,S<:AbstractArray{T,2}}, A::Base.SparseMatrix.SparseMatrixCSC{TvA,TiA}) at sparse/linalg.jl:154\n",
       "*(A::Base.SparseMatrix.CHOLMOD.Sparse{Tv<:Union{Float64,Complex{Float64}},Ti<:Union{Int64,Int32}}, B::Base.SparseMatrix.CHOLMOD.Sparse{Tv<:Union{Float64,Complex{Float64}},Ti<:Union{Int64,Int32}}) at sparse/cholmod.jl:1071\n",
       "*(A::Base.SparseMatrix.CHOLMOD.Sparse{Tv<:Union{Float64,Complex{Float64}},Ti<:Union{Int64,Int32}}, B::Base.SparseMatrix.CHOLMOD.Dense{T<:Union{Float64,Complex{Float64}}}) at sparse/cholmod.jl:1072\n",
       "*(A::Base.SparseMatrix.CHOLMOD.Sparse{Tv<:Union{Float64,Complex{Float64}},Ti<:Union{Int64,Int32}}, B::Union{Array{T,1},Array{T,2}}) at sparse/cholmod.jl:1073\n",
       "*{T<:Number}(x::AbstractArray{T<:Number,2}) at abstractarraymath.jl:50\n",
       "*(B::Number, A::Base.LinAlg.SymTridiagonal{T}) at linalg/tridiag.jl:70\n",
       "*(B::Number, A::Base.LinAlg.Tridiagonal{T}) at linalg/tridiag.jl:299\n",
       "*(x::Number, A::Base.LinAlg.UpperTriangular{T,S<:AbstractArray{T,2}}) at linalg/triangular.jl:284\n",
       "*(x::Number, A::Base.LinAlg.UnitUpperTriangular{T,S<:AbstractArray{T,2}}) at linalg/triangular.jl:287\n",
       "*(x::Number, A::Base.LinAlg.LowerTriangular{T,S<:AbstractArray{T,2}}) at linalg/triangular.jl:284\n",
       "*(x::Number, A::Base.LinAlg.UnitLowerTriangular{T,S<:AbstractArray{T,2}}) at linalg/triangular.jl:287\n",
       "*(B::Number, A::Base.LinAlg.Bidiagonal{T}) at linalg/bidiag.jl:132\n",
       "*(A::Number, B::AbstractArray{T,N}) at abstractarraymath.jl:54\n",
       "*(A::AbstractArray{T,N}, B::Number) at abstractarraymath.jl:55\n",
       "*(s1::AbstractString, ss::AbstractString...) at string.jl:80\n",
       "*(this::Base.Grisu.Float, other::Base.Grisu.Float) at grisu/float.jl:138\n",
       "*(index::Base.IteratorsMD.CartesianIndex{N}, a::Integer) at multidimensional.jl:74\n",
       "*{T,S}(A::AbstractArray{T,2}, B::Union{SubArray{S,2,A<:DenseArray{T,N},I<:Tuple{Vararg{Union{Colon,Range{Int64},Int64}}},LD},DenseArray{S,2}}) at linalg/matmul.jl:112\n",
       "*{TX,TvA,TiA}(X::AbstractArray{TX,2}, A::Base.SparseMatrix.SparseMatrixCSC{TvA,TiA}) at sparse/linalg.jl:156\n",
       "*{T,S}(A::AbstractArray{T,2}, x::AbstractArray{S,1}) at linalg/matmul.jl:67\n",
       "*{T1,T2}(X::AbstractArray{T1,1}, A::Base.SparseMatrix.SparseMatrixCSC{T2,Ti<:Integer}) at sparse/linalg.jl:124\n",
       "*(A::AbstractArray{T,1}, B::AbstractArray{T,2}) at linalg/matmul.jl:70\n",
       "*(J1::Base.LinAlg.UniformScaling{T<:Number}, J2::Base.LinAlg.UniformScaling{T<:Number}) at linalg/uniformscaling.jl:71\n",
       "*(J::Base.LinAlg.UniformScaling{T<:Number}, B::BitArray{2}) at linalg/uniformscaling.jl:73\n",
       "*(A::AbstractArray{T,2}, J::Base.LinAlg.UniformScaling{T<:Number}) at linalg/uniformscaling.jl:74\n",
       "*{Tv,Ti}(J::Base.LinAlg.UniformScaling{T<:Number}, S::Base.SparseMatrix.SparseMatrixCSC{Tv,Ti}) at sparse/linalg.jl:24\n",
       "*(J::Base.LinAlg.UniformScaling{T<:Number}, A::Union{AbstractArray{T,1},AbstractArray{T,2}}) at linalg/uniformscaling.jl:75\n",
       "*(x::Number, J::Base.LinAlg.UniformScaling{T<:Number}) at linalg/uniformscaling.jl:77\n",
       "*(J::Base.LinAlg.UniformScaling{T<:Number}, x::Number) at linalg/uniformscaling.jl:78\n",
       "*{T,S}(R::Base.LinAlg.AbstractRotation{T}, A::AbstractArray{S,2}) at linalg/givens.jl:9\n",
       "*{T}(G1::Base.LinAlg.Givens{T}, G2::Base.LinAlg.Givens{T}) at linalg/givens.jl:282\n",
       "*{P<:Base.Dates.Period}(x::P<:Base.Dates.Period, y::Real) at dates/periods.jl:61\n",
       "*(p::Graphics.Vec2, s::Real) at /Users/dsanders/.julia/v0.4/Graphics/src/Graphics.jl:62\n",
       "*(bb::Graphics.BoundingBox, s::Real) at /Users/dsanders/.julia/v0.4/Graphics/src/Graphics.jl:147\n",
       "*(c::Number, a::Color.XYZ{T<:Union{FixedPointNumbers.FixedPoint,FloatingPoint}}) at /Users/dsanders/.julia/v0.4/Color/src/colorspaces.jl:334\n",
       "*{T<:Color.ColorValue{T}}(c::Number, a::T<:Color.ColorValue{T}) at /Users/dsanders/.julia/v0.4/Color/src/colorspaces.jl:338\n",
       "*{T<:Number,S}(p::Polynomials.Poly{S}, c::T<:Number) at /Users/dsanders/.julia/v0.4/Polynomials/src/Polynomials.jl:133\n",
       "*{T,S}(p1::Polynomials.Poly{T}, p2::Polynomials.Poly{S}) at /Users/dsanders/.julia/v0.4/Polynomials/src/Polynomials.jl:173\n",
       "*(a, b, c) at operators.jl:84\n",
       "*(a, b, c, xs...) at operators.jl:85"
      ]
     },
     "execution_count": 83,
     "metadata": {},
     "output_type": "execute_result"
    }
   ],
   "source": [
    "methods(*)"
   ]
  },
  {
   "cell_type": "markdown",
   "metadata": {},
   "source": [
    "All of these are defined in Julia itself. (Although the definitions for basic types like `Int` are only shallow wrappers around underlying C code.) We see that generic functions can be a complicated \"patchwork\" made of different methods for different types."
   ]
  },
  {
   "cell_type": "markdown",
   "metadata": {},
   "source": [
    "We can find the exact method used for a given operation using `@which`:"
   ]
  },
  {
   "cell_type": "code",
   "execution_count": 84,
   "metadata": {
    "collapsed": false
   },
   "outputs": [
    {
     "data": {
      "text/html": [
       "*(z::<b>Complex{T<:Real}</b>, w::<b>Complex{T<:Real}</b>) at <a href=\"https://github.com/JuliaLang/julia/tree/dbe94d156bbb07f0c30af6b49a42ab09416f5df7/base/complex.jl#L112\" target=\"_blank\">complex.jl:112</a>"
      ],
      "text/plain": [
       "*(z::Complex{T<:Real}, w::Complex{T<:Real}) at complex.jl:112"
      ]
     },
     "execution_count": 84,
     "metadata": {},
     "output_type": "execute_result"
    }
   ],
   "source": [
    "@which a * b"
   ]
  },
  {
   "cell_type": "markdown",
   "metadata": {},
   "source": [
    "## Initial conditions: matrices"
   ]
  },
  {
   "cell_type": "markdown",
   "metadata": {},
   "source": [
    "We are now ready to think about how to generate a grid of initial conditions of the form $a+bi$ in the complex plane, $\\mathbb{C}$. Firstly, we could just iterate over the initial conditions in two repeated `for`s, e.g."
   ]
  },
  {
   "cell_type": "code",
   "execution_count": 88,
   "metadata": {
    "collapsed": false
   },
   "outputs": [
    {
     "name": "stdout",
     "output_type": "stream",
     "text": [
      "(-2, -2)\n",
      "(-2, -1)\n",
      "(-2, 0)\n",
      "(-2, 1)\n",
      "(-1, -2)\n",
      "(-1, -1)\n",
      "(-1, 0)\n",
      "(-1, 1)\n",
      "(0, -2)\n",
      "(0, -1)\n",
      "(0, 0)\n",
      "(0, 1)\n",
      "(1, -2)\n",
      "(1, -1)\n",
      "(1, 0)\n",
      "(1, 1)\n"
     ]
    }
   ],
   "source": [
    "for i in -2:1\n",
    "    for j in -2:1\n",
    "        println(\"($i, $j)\")\n",
    "    end\n",
    "end"
   ]
  },
  {
   "cell_type": "markdown",
   "metadata": {},
   "source": [
    "Here we have used **string interpolation**: the *value* of the variable `i` is substituted into the string instead of the sequence `$i$`. [Note that this is not recommended for performance-critical applications.]"
   ]
  },
  {
   "cell_type": "markdown",
   "metadata": {},
   "source": [
    "But we still require somewhere to store the results. It is natural to use a **matrix**. A simple way of generating a matrix is the `zeros` function:"
   ]
  },
  {
   "cell_type": "code",
   "execution_count": 89,
   "metadata": {
    "collapsed": false
   },
   "outputs": [
    {
     "data": {
      "text/plain": [
       "3-element Array{Float64,1}:\n",
       " 0.0\n",
       " 0.0\n",
       " 0.0"
      ]
     },
     "execution_count": 89,
     "metadata": {},
     "output_type": "execute_result"
    }
   ],
   "source": [
    "zeros(3)"
   ]
  },
  {
   "cell_type": "markdown",
   "metadata": {},
   "source": [
    "We see that with a single element, we generate a *vector* of zeros, while"
   ]
  },
  {
   "cell_type": "code",
   "execution_count": 90,
   "metadata": {
    "collapsed": false
   },
   "outputs": [
    {
     "data": {
      "text/plain": [
       "3x3 Array{Float64,2}:\n",
       " 0.0  0.0  0.0\n",
       " 0.0  0.0  0.0\n",
       " 0.0  0.0  0.0"
      ]
     },
     "execution_count": 90,
     "metadata": {},
     "output_type": "execute_result"
    }
   ],
   "source": [
    "zeros(3, 3)"
   ]
  },
  {
   "cell_type": "markdown",
   "metadata": {},
   "source": [
    "gives a *matrix*, i.e. a 2-dimensional `Array`."
   ]
  },
  {
   "cell_type": "markdown",
   "metadata": {},
   "source": [
    "Multiple dispatch allows Julia to provide convenience versions of functions like this. For example:"
   ]
  },
  {
   "cell_type": "code",
   "execution_count": 93,
   "metadata": {
    "collapsed": false
   },
   "outputs": [
    {
     "data": {
      "text/plain": [
       "6-element Array{Int64,1}:\n",
       " 0\n",
       " 0\n",
       " 0\n",
       " 0\n",
       " 0\n",
       " 0"
      ]
     },
     "execution_count": 93,
     "metadata": {},
     "output_type": "execute_result"
    }
   ],
   "source": [
    "zeros(-3:2)"
   ]
  },
  {
   "cell_type": "markdown",
   "metadata": {},
   "source": [
    "creates a vector of the same length as the range!"
   ]
  },
  {
   "cell_type": "markdown",
   "metadata": {},
   "source": [
    "However, this does not work for two different ranges:"
   ]
  },
  {
   "cell_type": "code",
   "execution_count": 96,
   "metadata": {
    "collapsed": false
   },
   "outputs": [
    {
     "ename": "LoadError",
     "evalue": "LoadError: MethodError: `convert` has no method matching convert(::Type{Array{T,N}}, ::Type{Float64}, ::UnitRange{Int64}, ::UnitRange{Int64})\nThis may have arisen from a call to the constructor Array{T,N}(...),\nsince type constructors fall back to convert methods.\nClosest candidates are:\n  Array{T,N}(::Type{T}, !Matched::NTuple{N,Int64})\n  Array{T}(::Type{T}, !Matched::Integer)\n  Array{T}(::Type{T}, !Matched::Integer, !Matched::Integer)\n  ...\nwhile loading In[96], in expression starting on line 1",
     "output_type": "error",
     "traceback": [
      "LoadError: MethodError: `convert` has no method matching convert(::Type{Array{T,N}}, ::Type{Float64}, ::UnitRange{Int64}, ::UnitRange{Int64})\nThis may have arisen from a call to the constructor Array{T,N}(...),\nsince type constructors fall back to convert methods.\nClosest candidates are:\n  Array{T,N}(::Type{T}, !Matched::NTuple{N,Int64})\n  Array{T}(::Type{T}, !Matched::Integer)\n  Array{T}(::Type{T}, !Matched::Integer, !Matched::Integer)\n  ...\nwhile loading In[96], in expression starting on line 1",
      "",
      " in call at essentials.jl:57",
      " in zeros at array.jl:233"
     ]
    }
   ],
   "source": [
    "zeros(-3:2, -3:2)"
   ]
  },
  {
   "cell_type": "markdown",
   "metadata": {},
   "source": [
    "We can use `length` for example:"
   ]
  },
  {
   "cell_type": "code",
   "execution_count": 99,
   "metadata": {
    "collapsed": false
   },
   "outputs": [
    {
     "data": {
      "text/plain": [
       "101x101 Array{Float64,2}:\n",
       " 0.0  0.0  0.0  0.0  0.0  0.0  0.0  0.0  …  0.0  0.0  0.0  0.0  0.0  0.0  0.0\n",
       " 0.0  0.0  0.0  0.0  0.0  0.0  0.0  0.0     0.0  0.0  0.0  0.0  0.0  0.0  0.0\n",
       " 0.0  0.0  0.0  0.0  0.0  0.0  0.0  0.0     0.0  0.0  0.0  0.0  0.0  0.0  0.0\n",
       " 0.0  0.0  0.0  0.0  0.0  0.0  0.0  0.0     0.0  0.0  0.0  0.0  0.0  0.0  0.0\n",
       " 0.0  0.0  0.0  0.0  0.0  0.0  0.0  0.0     0.0  0.0  0.0  0.0  0.0  0.0  0.0\n",
       " 0.0  0.0  0.0  0.0  0.0  0.0  0.0  0.0  …  0.0  0.0  0.0  0.0  0.0  0.0  0.0\n",
       " 0.0  0.0  0.0  0.0  0.0  0.0  0.0  0.0     0.0  0.0  0.0  0.0  0.0  0.0  0.0\n",
       " 0.0  0.0  0.0  0.0  0.0  0.0  0.0  0.0     0.0  0.0  0.0  0.0  0.0  0.0  0.0\n",
       " 0.0  0.0  0.0  0.0  0.0  0.0  0.0  0.0     0.0  0.0  0.0  0.0  0.0  0.0  0.0\n",
       " 0.0  0.0  0.0  0.0  0.0  0.0  0.0  0.0     0.0  0.0  0.0  0.0  0.0  0.0  0.0\n",
       " 0.0  0.0  0.0  0.0  0.0  0.0  0.0  0.0  …  0.0  0.0  0.0  0.0  0.0  0.0  0.0\n",
       " 0.0  0.0  0.0  0.0  0.0  0.0  0.0  0.0     0.0  0.0  0.0  0.0  0.0  0.0  0.0\n",
       " 0.0  0.0  0.0  0.0  0.0  0.0  0.0  0.0     0.0  0.0  0.0  0.0  0.0  0.0  0.0\n",
       " ⋮                        ⋮              ⋱       ⋮                        ⋮  \n",
       " 0.0  0.0  0.0  0.0  0.0  0.0  0.0  0.0     0.0  0.0  0.0  0.0  0.0  0.0  0.0\n",
       " 0.0  0.0  0.0  0.0  0.0  0.0  0.0  0.0  …  0.0  0.0  0.0  0.0  0.0  0.0  0.0\n",
       " 0.0  0.0  0.0  0.0  0.0  0.0  0.0  0.0     0.0  0.0  0.0  0.0  0.0  0.0  0.0\n",
       " 0.0  0.0  0.0  0.0  0.0  0.0  0.0  0.0     0.0  0.0  0.0  0.0  0.0  0.0  0.0\n",
       " 0.0  0.0  0.0  0.0  0.0  0.0  0.0  0.0     0.0  0.0  0.0  0.0  0.0  0.0  0.0\n",
       " 0.0  0.0  0.0  0.0  0.0  0.0  0.0  0.0     0.0  0.0  0.0  0.0  0.0  0.0  0.0\n",
       " 0.0  0.0  0.0  0.0  0.0  0.0  0.0  0.0  …  0.0  0.0  0.0  0.0  0.0  0.0  0.0\n",
       " 0.0  0.0  0.0  0.0  0.0  0.0  0.0  0.0     0.0  0.0  0.0  0.0  0.0  0.0  0.0\n",
       " 0.0  0.0  0.0  0.0  0.0  0.0  0.0  0.0     0.0  0.0  0.0  0.0  0.0  0.0  0.0\n",
       " 0.0  0.0  0.0  0.0  0.0  0.0  0.0  0.0     0.0  0.0  0.0  0.0  0.0  0.0  0.0\n",
       " 0.0  0.0  0.0  0.0  0.0  0.0  0.0  0.0     0.0  0.0  0.0  0.0  0.0  0.0  0.0\n",
       " 0.0  0.0  0.0  0.0  0.0  0.0  0.0  0.0  …  0.0  0.0  0.0  0.0  0.0  0.0  0.0"
      ]
     },
     "execution_count": 99,
     "metadata": {},
     "output_type": "execute_result"
    }
   ],
   "source": [
    "linear_initial_conditions = -5:0.1:5\n",
    "roots = zeros(length(linear_initial_conditions), length(linear_initial_conditions))"
   ]
  },
  {
   "cell_type": "markdown",
   "metadata": {},
   "source": [
    "However, if we try to store a complex number in this matrix, we find a problem:"
   ]
  },
  {
   "cell_type": "code",
   "execution_count": 100,
   "metadata": {
    "collapsed": false
   },
   "outputs": [
    {
     "ename": "LoadError",
     "evalue": "LoadError: InexactError()\nwhile loading In[100], in expression starting on line 1",
     "output_type": "error",
     "traceback": [
      "LoadError: InexactError()\nwhile loading In[100], in expression starting on line 1",
      "",
      " in setindex! at array.jl:321",
      " in setindex! at abstractarray.jl:513"
     ]
    }
   ],
   "source": [
    "roots[1, 1] = 3+4im"
   ]
  },
  {
   "cell_type": "markdown",
   "metadata": {},
   "source": [
    "An `InexactError` is a sign that we are trying to put a value into a type that it \"doesn't fit into\", for example a `Float64` into an `Int64`, or, in this case, a complex number into a float. We must instead create the matrix to hold complex numbers:"
   ]
  },
  {
   "cell_type": "code",
   "execution_count": 101,
   "metadata": {
    "collapsed": false
   },
   "outputs": [
    {
     "data": {
      "text/plain": [
       "101x101 Array{Complex{Float64},2}:\n",
       " 0.0+0.0im  0.0+0.0im  0.0+0.0im  …  0.0+0.0im  0.0+0.0im  0.0+0.0im\n",
       " 0.0+0.0im  0.0+0.0im  0.0+0.0im     0.0+0.0im  0.0+0.0im  0.0+0.0im\n",
       " 0.0+0.0im  0.0+0.0im  0.0+0.0im     0.0+0.0im  0.0+0.0im  0.0+0.0im\n",
       " 0.0+0.0im  0.0+0.0im  0.0+0.0im     0.0+0.0im  0.0+0.0im  0.0+0.0im\n",
       " 0.0+0.0im  0.0+0.0im  0.0+0.0im     0.0+0.0im  0.0+0.0im  0.0+0.0im\n",
       " 0.0+0.0im  0.0+0.0im  0.0+0.0im  …  0.0+0.0im  0.0+0.0im  0.0+0.0im\n",
       " 0.0+0.0im  0.0+0.0im  0.0+0.0im     0.0+0.0im  0.0+0.0im  0.0+0.0im\n",
       " 0.0+0.0im  0.0+0.0im  0.0+0.0im     0.0+0.0im  0.0+0.0im  0.0+0.0im\n",
       " 0.0+0.0im  0.0+0.0im  0.0+0.0im     0.0+0.0im  0.0+0.0im  0.0+0.0im\n",
       " 0.0+0.0im  0.0+0.0im  0.0+0.0im     0.0+0.0im  0.0+0.0im  0.0+0.0im\n",
       " 0.0+0.0im  0.0+0.0im  0.0+0.0im  …  0.0+0.0im  0.0+0.0im  0.0+0.0im\n",
       " 0.0+0.0im  0.0+0.0im  0.0+0.0im     0.0+0.0im  0.0+0.0im  0.0+0.0im\n",
       " 0.0+0.0im  0.0+0.0im  0.0+0.0im     0.0+0.0im  0.0+0.0im  0.0+0.0im\n",
       "    ⋮                             ⋱                           ⋮     \n",
       " 0.0+0.0im  0.0+0.0im  0.0+0.0im     0.0+0.0im  0.0+0.0im  0.0+0.0im\n",
       " 0.0+0.0im  0.0+0.0im  0.0+0.0im  …  0.0+0.0im  0.0+0.0im  0.0+0.0im\n",
       " 0.0+0.0im  0.0+0.0im  0.0+0.0im     0.0+0.0im  0.0+0.0im  0.0+0.0im\n",
       " 0.0+0.0im  0.0+0.0im  0.0+0.0im     0.0+0.0im  0.0+0.0im  0.0+0.0im\n",
       " 0.0+0.0im  0.0+0.0im  0.0+0.0im     0.0+0.0im  0.0+0.0im  0.0+0.0im\n",
       " 0.0+0.0im  0.0+0.0im  0.0+0.0im     0.0+0.0im  0.0+0.0im  0.0+0.0im\n",
       " 0.0+0.0im  0.0+0.0im  0.0+0.0im  …  0.0+0.0im  0.0+0.0im  0.0+0.0im\n",
       " 0.0+0.0im  0.0+0.0im  0.0+0.0im     0.0+0.0im  0.0+0.0im  0.0+0.0im\n",
       " 0.0+0.0im  0.0+0.0im  0.0+0.0im     0.0+0.0im  0.0+0.0im  0.0+0.0im\n",
       " 0.0+0.0im  0.0+0.0im  0.0+0.0im     0.0+0.0im  0.0+0.0im  0.0+0.0im\n",
       " 0.0+0.0im  0.0+0.0im  0.0+0.0im     0.0+0.0im  0.0+0.0im  0.0+0.0im\n",
       " 0.0+0.0im  0.0+0.0im  0.0+0.0im  …  0.0+0.0im  0.0+0.0im  0.0+0.0im"
      ]
     },
     "execution_count": 101,
     "metadata": {},
     "output_type": "execute_result"
    }
   ],
   "source": [
    "linear_initial_conditions = -5:0.1:5\n",
    "roots = zeros(Complex128, length(linear_initial_conditions), length(linear_initial_conditions))"
   ]
  },
  {
   "cell_type": "markdown",
   "metadata": {},
   "source": [
    "Here, `Complex128` is just an alias (an alternative name) for `Complex{Float64}`, so called because two 64-bit `Float64`s require `128` bits of storage in total."
   ]
  },
  {
   "cell_type": "markdown",
   "metadata": {},
   "source": [
    "Now we can insert complex values into the matrix:"
   ]
  },
  {
   "cell_type": "code",
   "execution_count": 103,
   "metadata": {
    "collapsed": false
   },
   "outputs": [
    {
     "data": {
      "text/plain": [
       "3 + 4im"
      ]
     },
     "execution_count": 103,
     "metadata": {},
     "output_type": "execute_result"
    }
   ],
   "source": [
    "roots[1, 1] = 3+4im"
   ]
  },
  {
   "cell_type": "code",
   "execution_count": 104,
   "metadata": {
    "collapsed": false
   },
   "outputs": [
    {
     "data": {
      "text/plain": [
       "101x101 Array{Complex{Float64},2}:\n",
       " 3.0+4.0im  0.0+0.0im  0.0+0.0im  …  0.0+0.0im  0.0+0.0im  0.0+0.0im\n",
       " 0.0+0.0im  0.0+0.0im  0.0+0.0im     0.0+0.0im  0.0+0.0im  0.0+0.0im\n",
       " 0.0+0.0im  0.0+0.0im  0.0+0.0im     0.0+0.0im  0.0+0.0im  0.0+0.0im\n",
       " 0.0+0.0im  0.0+0.0im  0.0+0.0im     0.0+0.0im  0.0+0.0im  0.0+0.0im\n",
       " 0.0+0.0im  0.0+0.0im  0.0+0.0im     0.0+0.0im  0.0+0.0im  0.0+0.0im\n",
       " 0.0+0.0im  0.0+0.0im  0.0+0.0im  …  0.0+0.0im  0.0+0.0im  0.0+0.0im\n",
       " 0.0+0.0im  0.0+0.0im  0.0+0.0im     0.0+0.0im  0.0+0.0im  0.0+0.0im\n",
       " 0.0+0.0im  0.0+0.0im  0.0+0.0im     0.0+0.0im  0.0+0.0im  0.0+0.0im\n",
       " 0.0+0.0im  0.0+0.0im  0.0+0.0im     0.0+0.0im  0.0+0.0im  0.0+0.0im\n",
       " 0.0+0.0im  0.0+0.0im  0.0+0.0im     0.0+0.0im  0.0+0.0im  0.0+0.0im\n",
       " 0.0+0.0im  0.0+0.0im  0.0+0.0im  …  0.0+0.0im  0.0+0.0im  0.0+0.0im\n",
       " 0.0+0.0im  0.0+0.0im  0.0+0.0im     0.0+0.0im  0.0+0.0im  0.0+0.0im\n",
       " 0.0+0.0im  0.0+0.0im  0.0+0.0im     0.0+0.0im  0.0+0.0im  0.0+0.0im\n",
       "    ⋮                             ⋱                           ⋮     \n",
       " 0.0+0.0im  0.0+0.0im  0.0+0.0im     0.0+0.0im  0.0+0.0im  0.0+0.0im\n",
       " 0.0+0.0im  0.0+0.0im  0.0+0.0im  …  0.0+0.0im  0.0+0.0im  0.0+0.0im\n",
       " 0.0+0.0im  0.0+0.0im  0.0+0.0im     0.0+0.0im  0.0+0.0im  0.0+0.0im\n",
       " 0.0+0.0im  0.0+0.0im  0.0+0.0im     0.0+0.0im  0.0+0.0im  0.0+0.0im\n",
       " 0.0+0.0im  0.0+0.0im  0.0+0.0im     0.0+0.0im  0.0+0.0im  0.0+0.0im\n",
       " 0.0+0.0im  0.0+0.0im  0.0+0.0im     0.0+0.0im  0.0+0.0im  0.0+0.0im\n",
       " 0.0+0.0im  0.0+0.0im  0.0+0.0im  …  0.0+0.0im  0.0+0.0im  0.0+0.0im\n",
       " 0.0+0.0im  0.0+0.0im  0.0+0.0im     0.0+0.0im  0.0+0.0im  0.0+0.0im\n",
       " 0.0+0.0im  0.0+0.0im  0.0+0.0im     0.0+0.0im  0.0+0.0im  0.0+0.0im\n",
       " 0.0+0.0im  0.0+0.0im  0.0+0.0im     0.0+0.0im  0.0+0.0im  0.0+0.0im\n",
       " 0.0+0.0im  0.0+0.0im  0.0+0.0im     0.0+0.0im  0.0+0.0im  0.0+0.0im\n",
       " 0.0+0.0im  0.0+0.0im  0.0+0.0im  …  0.0+0.0im  0.0+0.0im  0.0+0.0im"
      ]
     },
     "execution_count": 104,
     "metadata": {},
     "output_type": "execute_result"
    }
   ],
   "source": [
    "roots"
   ]
  },
  {
   "cell_type": "markdown",
   "metadata": {},
   "source": [
    "## Implementing Newton for complex functions "
   ]
  },
  {
   "cell_type": "markdown",
   "metadata": {},
   "source": [
    "We are now ready to make a version of Newton for complex functions. We will try to find cube roots of $1$ in the complex plane, by finding zeros of the function"
   ]
  },
  {
   "cell_type": "code",
   "execution_count": 7,
   "metadata": {
    "collapsed": false
   },
   "outputs": [
    {
     "data": {
      "text/plain": [
       "f (generic function with 1 method)"
      ]
     },
     "execution_count": 7,
     "metadata": {},
     "output_type": "execute_result"
    }
   ],
   "source": [
    "f(z) = z^3 - 1"
   ]
  },
  {
   "cell_type": "markdown",
   "metadata": {},
   "source": [
    "with derivative"
   ]
  },
  {
   "cell_type": "code",
   "execution_count": 8,
   "metadata": {
    "collapsed": false
   },
   "outputs": [
    {
     "data": {
      "text/plain": [
       "f′ (generic function with 1 method)"
      ]
     },
     "execution_count": 8,
     "metadata": {},
     "output_type": "execute_result"
    }
   ],
   "source": [
    "f′(z) = 3z^2"
   ]
  },
  {
   "cell_type": "code",
   "execution_count": 9,
   "metadata": {
    "collapsed": false
   },
   "outputs": [
    {
     "data": {
      "text/plain": [
       "do_complex_roots (generic function with 2 methods)"
      ]
     },
     "execution_count": 9,
     "metadata": {},
     "output_type": "execute_result"
    }
   ],
   "source": [
    "function do_complex_roots(range=-5:0.1:5)  # default value\n",
    "\n",
    "    L = length(range)\n",
    "    \n",
    "    roots = zeros(Complex128, L, L)\n",
    "\n",
    "    for (i, x) in enumerate(range)\n",
    "        for (j, y) in enumerate(range)\n",
    "            \n",
    "            z = x + y*im\n",
    "            \n",
    "            for k in 1:1000\n",
    "                z = z - f(z) / f′(z)\n",
    "            end\n",
    "\n",
    "            roots[i,j] = z\n",
    "        end\n",
    "        \n",
    "    end\n",
    "    \n",
    "    roots\n",
    "end"
   ]
  },
  {
   "cell_type": "code",
   "execution_count": 10,
   "metadata": {
    "collapsed": false
   },
   "outputs": [
    {
     "data": {
      "text/plain": [
       "101x101 Array{Complex{Float64},2}:\n",
       " -0.5-0.866025im  -0.5-0.866025im  …  -0.5+0.866025im  -0.5+0.866025im\n",
       " -0.5-0.866025im  -0.5-0.866025im     -0.5+0.866025im  -0.5+0.866025im\n",
       " -0.5-0.866025im  -0.5-0.866025im     -0.5+0.866025im  -0.5+0.866025im\n",
       " -0.5-0.866025im  -0.5-0.866025im     -0.5+0.866025im  -0.5+0.866025im\n",
       " -0.5-0.866025im  -0.5-0.866025im     -0.5+0.866025im  -0.5+0.866025im\n",
       " -0.5-0.866025im  -0.5-0.866025im  …  -0.5+0.866025im  -0.5+0.866025im\n",
       " -0.5-0.866025im  -0.5-0.866025im     -0.5+0.866025im  -0.5+0.866025im\n",
       " -0.5-0.866025im  -0.5-0.866025im     -0.5+0.866025im  -0.5+0.866025im\n",
       " -0.5-0.866025im  -0.5-0.866025im     -0.5+0.866025im  -0.5+0.866025im\n",
       " -0.5-0.866025im  -0.5-0.866025im     -0.5+0.866025im  -0.5+0.866025im\n",
       " -0.5-0.866025im  -0.5-0.866025im  …  -0.5+0.866025im  -0.5+0.866025im\n",
       " -0.5-0.866025im  -0.5-0.866025im     -0.5+0.866025im  -0.5+0.866025im\n",
       " -0.5-0.866025im  -0.5-0.866025im     -0.5+0.866025im  -0.5+0.866025im\n",
       "     ⋮                             ⋱                       ⋮          \n",
       "  1.0+0.0im        1.0+0.0im           1.0+0.0im        1.0+0.0im     \n",
       "  1.0+0.0im        1.0+0.0im       …   1.0+0.0im        1.0+0.0im     \n",
       "  1.0+0.0im        1.0+0.0im           1.0+0.0im        1.0+0.0im     \n",
       "  1.0+0.0im        1.0+0.0im           1.0+0.0im        1.0+0.0im     \n",
       "  1.0+0.0im        1.0+0.0im           1.0+0.0im        1.0+0.0im     \n",
       "  1.0+0.0im        1.0+0.0im           1.0+0.0im        1.0+0.0im     \n",
       "  1.0+0.0im        1.0+0.0im       …   1.0+0.0im        1.0+0.0im     \n",
       "  1.0+0.0im        1.0+0.0im           1.0+0.0im        1.0+0.0im     \n",
       "  1.0+0.0im        1.0+0.0im           1.0+0.0im        1.0+0.0im     \n",
       "  1.0+0.0im        1.0+0.0im           1.0+0.0im        1.0+0.0im     \n",
       "  1.0+0.0im        1.0+0.0im           1.0+0.0im        1.0+0.0im     \n",
       "  1.0+0.0im        1.0+0.0im       …   1.0+0.0im        1.0+0.0im     "
      ]
     },
     "execution_count": 10,
     "metadata": {},
     "output_type": "execute_result"
    }
   ],
   "source": [
    "roots = do_complex_roots(-5:0.1:5)"
   ]
  },
  {
   "cell_type": "markdown",
   "metadata": {},
   "source": [
    "Now let's use `PyPlot` to plot the result. `PyPlot` only understands floating-point matrices, so we'll take the imaginary part:"
   ]
  },
  {
   "cell_type": "code",
   "execution_count": 12,
   "metadata": {
    "collapsed": false
   },
   "outputs": [
    {
     "name": "stderr",
     "output_type": "stream",
     "text": [
      "Warning: New definition \n",
      "    call(Type{PyCall.PyDict}, Base.Associative{#K<:Any, Any}) at /Users/dsanders/.julia/v0.4/PyCall/src/conversions.jl:464\n",
      "is ambiguous with: \n",
      "    call(Type{PyCall.PyDict}, Base.Associative{Any, #V<:Any}) at /Users/dsanders/.julia/v0.4/PyCall/src/conversions.jl:463.\n",
      "To fix, define \n",
      "    call(Type{PyCall.PyDict}, Base.Associative{Any, Any})\n",
      "before the new definition.\n",
      "WARNING: ntuple(n::Integer,f::Function) is deprecated, use ntuple(f,n) instead.\n"
     ]
    }
   ],
   "source": [
    "using PyPlot"
   ]
  },
  {
   "cell_type": "code",
   "execution_count": 13,
   "metadata": {
    "collapsed": false
   },
   "outputs": [
    {
     "name": "stderr",
     "output_type": "stream",
     "text": [
      " in depwarn at ./deprecated.jl:62\n",
      " in ntuple at deprecated.jl:49\n",
      " in convert at /Users/dsanders/.julia/v0.4/PyCall/src/conversions.jl:222\n",
      " in py2array at /Users/dsanders/.julia/v0.4/PyCall/src/conversions.jl:73\n",
      " in convert at /Users/dsanders/.julia/v0.4/PyCall/src/conversions.jl:429\n",
      " in pywrap at /Users/dsanders/.julia/v0.4/PyCall/src/PyCall.jl:305\n",
      " in pywrap at /Users/dsanders/.julia/v0.4/PyCall/src/PyCall.jl:304\n",
      " in __init__ at /Users/dsanders/.julia/v0.4/PyPlot/src/PyPlot.jl:149\n",
      " in include at ./boot.jl:254\n",
      " in include_from_node1 at ./loading.jl:133\n",
      " in reload_path at ./loading.jl:157\n",
      " in _require at ./loading.jl:69\n",
      " in require at ./loading.jl:52\n",
      " in include_string at loading.jl:99\n",
      " in execute_request_0x535c5df2 at /Users/dsanders/.julia/v0.4/IJulia/src/execute_request.jl:157\n",
      " in eventloop at /Users/dsanders/.julia/v0.4/IJulia/src/IJulia.jl:123\n",
      " in anonymous at task.jl:365\n",
      "while loading /Users/dsanders/.julia/v0.4/PyPlot/src/PyPlot.jl, in expression starting on line 560\n",
      "WARNING: ntuple(n::Integer,f::Function) is deprecated, use ntuple(f,n) instead.\n"
     ]
    },
    {
     "data": {
      "image/png": "[encoded data removed]",
      "text/plain": [
       "PyPlot.Figure(PyObject <matplotlib.figure.Figure object at 0x318df0f90>)"
      ]
     },
     "metadata": {},
     "output_type": "display_data"
    },
    {
     "data": {
      "text/plain": [
       "PyObject <matplotlib.image.AxesImage object at 0x3162552d0>"
      ]
     },
     "execution_count": 13,
     "metadata": {},
     "output_type": "execute_result"
    },
    {
     "name": "stderr",
     "output_type": "stream",
     "text": [
      " in depwarn at ./deprecated.jl:62\n",
      " in ntuple at deprecated.jl:49\n",
      " in convert at /Users/dsanders/.julia/v0.4/PyCall/src/conversions.jl:222\n",
      " in convert at /Users/dsanders/.julia/v0.4/PyCall/src/conversions.jl:846\n",
      " in jl_Function_call at /Users/dsanders/.julia/v0.4/PyCall/src/callback.jl:36\n",
      " in pycall at /Users/dsanders/.julia/v0.4/PyCall/src/PyCall.jl:73\n",
      " in imshow at /Users/dsanders/.julia/v0.4/PyPlot/src/PyPlot.jl:371\n",
      " in include_string at loading.jl:99\n",
      " in execute_request_0x535c5df2 at /Users/dsanders/.julia/v0.4/IJulia/src/execute_request.jl:157\n",
      " in eventloop at /Users/dsanders/.julia/v0.4/IJulia/src/IJulia.jl:123\n",
      " in anonymous at task.jl:365\n",
      "while loading In[13], in expression starting on line 1\n"
     ]
    }
   ],
   "source": [
    "imshow(imag(roots))"
   ]
  },
  {
   "cell_type": "markdown",
   "metadata": {},
   "source": [
    "Julia uses \"column-major\" storage, whereas Python uses \"row-major\", so in fact we need to flip $x$ and $y$:"
   ]
  },
  {
   "cell_type": "code",
   "execution_count": 14,
   "metadata": {
    "collapsed": false
   },
   "outputs": [
    {
     "data": {
      "text/plain": [
       "do_complex_roots (generic function with 2 methods)"
      ]
     },
     "execution_count": 14,
     "metadata": {},
     "output_type": "execute_result"
    }
   ],
   "source": [
    "function do_complex_roots(range=-5:0.1:5)  # default value\n",
    "\n",
    "    L = length(range)\n",
    "    \n",
    "    roots = zeros(Complex128, L, L)\n",
    "\n",
    "    for (i, x) in enumerate(range)\n",
    "        for (j, y) in enumerate(range)\n",
    "            \n",
    "            z = y + x*im\n",
    "            \n",
    "            for k in 1:1000\n",
    "                z = z - f(z) / f′(z)\n",
    "            end\n",
    "\n",
    "            roots[i,j] = z\n",
    "        end\n",
    "        \n",
    "    end\n",
    "    \n",
    "    roots\n",
    "end"
   ]
  },
  {
   "cell_type": "code",
   "execution_count": 15,
   "metadata": {
    "collapsed": false
   },
   "outputs": [
    {
     "data": {
      "image/png": "[encoded data removed]",
      "text/plain": [
       "PyPlot.Figure(PyObject <matplotlib.figure.Figure object at 0x3161ff390>)"
      ]
     },
     "metadata": {},
     "output_type": "display_data"
    },
    {
     "data": {
      "text/plain": [
       "PyObject <matplotlib.image.AxesImage object at 0x319471b50>"
      ]
     },
     "execution_count": 15,
     "metadata": {},
     "output_type": "execute_result"
    }
   ],
   "source": [
    "imshow(imag(do_complex_roots(-3:0.01:3)))"
   ]
  },
  {
   "cell_type": "markdown",
   "metadata": {},
   "source": [
    "## Array comprehensions "
   ]
  },
  {
   "cell_type": "markdown",
   "metadata": {},
   "source": [
    "Julia has a neat syntax for constructing arrays from iterables that is very similar to mathematical notation.\n",
    "For example, the squares of the numbers from 1 to 10 is\n",
    "\n",
    "$$\\{x^2: x \\in \\{1,\\ldots,10\\} \\},$$\n",
    "\n",
    "i.e. \"the set of $x^2$ for $x$ from $1$ to $10$. In Julia we can write"
   ]
  },
  {
   "cell_type": "code",
   "execution_count": 17,
   "metadata": {
    "collapsed": false
   },
   "outputs": [
    {
     "data": {
      "text/plain": [
       "10-element Array{Int64,1}:\n",
       "   1\n",
       "   4\n",
       "   9\n",
       "  16\n",
       "  25\n",
       "  36\n",
       "  49\n",
       "  64\n",
       "  81\n",
       " 100"
      ]
     },
     "execution_count": 17,
     "metadata": {},
     "output_type": "execute_result"
    }
   ],
   "source": [
    "squares = [x^2 for x in 1:10]"
   ]
  },
  {
   "cell_type": "markdown",
   "metadata": {},
   "source": [
    "Let's define a Newton function by"
   ]
  },
  {
   "cell_type": "code",
   "execution_count": 21,
   "metadata": {
    "collapsed": false
   },
   "outputs": [
    {
     "data": {
      "text/plain": [
       "newton (generic function with 2 methods)"
      ]
     },
     "execution_count": 21,
     "metadata": {},
     "output_type": "execute_result"
    }
   ],
   "source": [
    "function newton(x0, N=100)\n",
    "    x = x0\n",
    "    \n",
    "    for i in 1:N\n",
    "        x = x - f(x) / f′(x)\n",
    "    end\n",
    "    \n",
    "    x\n",
    "end\n",
    "    "
   ]
  },
  {
   "cell_type": "markdown",
   "metadata": {},
   "source": [
    "Then our Newton fractal can be written very concisely as"
   ]
  },
  {
   "cell_type": "code",
   "execution_count": 23,
   "metadata": {
    "collapsed": false
   },
   "outputs": [
    {
     "data": {
      "text/html": [
       "2 methods for generic function <b>newton</b>:<ul><li> newton(x0, N) at In[21]:2<li> newton(x0) at In[21]:2</ul>"
      ],
      "text/plain": [
       "# 2 methods for generic function \"newton\":\n",
       "newton(x0, N) at In[21]:2\n",
       "newton(x0) at In[21]:2"
      ]
     },
     "execution_count": 23,
     "metadata": {},
     "output_type": "execute_result"
    }
   ],
   "source": [
    "methods(newton)"
   ]
  },
  {
   "cell_type": "markdown",
   "metadata": {},
   "source": [
    "Note that the effect of a default argument is simply to create an additional method."
   ]
  },
  {
   "cell_type": "code",
   "execution_count": 22,
   "metadata": {
    "collapsed": false
   },
   "outputs": [
    {
     "data": {
      "text/plain": [
       "newton_fractal (generic function with 1 method)"
      ]
     },
     "execution_count": 22,
     "metadata": {},
     "output_type": "execute_result"
    }
   ],
   "source": [
    "function newton_fractal(range)\n",
    "    [newton(b+a*im) for a in range, b in range]\n",
    "end"
   ]
  },
  {
   "cell_type": "markdown",
   "metadata": {},
   "source": [
    "We can add labels using PyPlot"
   ]
  },
  {
   "cell_type": "code",
   "execution_count": 27,
   "metadata": {
    "collapsed": false
   },
   "outputs": [
    {
     "name": "stdout",
     "output_type": "stream",
     "text": [
      "search: text Text text3D text2D TextDisplay @text_str istext figtext atexit\n",
      "\n",
      "Add text to the axes.\n",
      "\n",
      "Add text in string `s` to axis at location `x`, `y`, data\n",
      "coordinates.\n",
      "\n",
      "Parameters\n",
      "----------\n",
      "x, y : scalars\n",
      "    data coordinates\n",
      "\n",
      "s : string\n",
      "    text\n",
      "\n",
      "fontdict : dictionary, optional, default: None\n",
      "    A dictionary to override the default text properties. If fontdict\n",
      "    is None, the defaults are determined by your rc parameters.\n",
      "\n",
      "withdash : boolean, optional, default: False\n",
      "    Creates a `~matplotlib.text.TextWithDash` instance instead of a\n",
      "    `~matplotlib.text.Text` instance.\n",
      "\n",
      "Other parameters\n",
      "----------------\n",
      "kwargs : `~matplotlib.text.Text` properties.\n",
      "    Other miscellaneous text parameters.\n",
      "\n",
      "Examples\n",
      "--------\n",
      "Individual keyword arguments can be used to override any given\n",
      "parameter::\n",
      "\n",
      "    >>> text(x, y, s, fontsize=12)\n",
      "\n",
      "The default transform specifies that text is in data coords,\n",
      "alternatively, you can specify text in axis coords (0,0 is\n",
      "lower-left and 1,1 is upper-right).  The example below places\n",
      "text in the center of the axes::\n",
      "\n",
      "    >>> text(0.5, 0.5,'matplotlib', horizontalalignment='center',\n",
      "    ...      verticalalignment='center',\n",
      "    ...      transform=ax.transAxes)\n",
      "\n",
      "You can put a rectangular box around the text instance (e.g., to\n",
      "set a background color) by using the keyword `bbox`.  `bbox` is\n",
      "a dictionary of `~matplotlib.patches.Rectangle`\n",
      "properties.  For example::\n",
      "\n",
      "    >>> text(x, y, s, bbox=dict(facecolor='red', alpha=0.5))\n"
     ]
    }
   ],
   "source": [
    "?text"
   ]
  },
  {
   "cell_type": "code",
   "execution_count": 35,
   "metadata": {
    "collapsed": false
   },
   "outputs": [
    {
     "data": {
      "image/png": "[encoded data removed]",
      "text/plain": [
       "PyPlot.Figure(PyObject <matplotlib.figure.Figure object at 0x31627d150>)"
      ]
     },
     "metadata": {},
     "output_type": "display_data"
    },
    {
     "data": {
      "text/plain": [
       "PyObject <matplotlib.text.Text object at 0x319ceaa10>"
      ]
     },
     "execution_count": 35,
     "metadata": {},
     "output_type": "execute_result"
    }
   ],
   "source": [
    "imshow(imag(newton_fractal(-3:0.01:3)), extent=(-3, 3, -3, 3))\n",
    "\n",
    "text(1, 0, L\"1\")\n",
    "text(reim(exp(2π*im/3))..., L\"e^{2\\frac{\\pi}{3}}\")\n",
    "text(reim(exp(-2π*im/3))..., L\"e^{-2\\frac{\\pi}{3}}\")"
   ]
  },
  {
   "cell_type": "markdown",
   "metadata": {},
   "source": [
    "Here, we have used Julia's `reim` function:"
   ]
  },
  {
   "cell_type": "code",
   "execution_count": 37,
   "metadata": {
    "collapsed": false
   },
   "outputs": [
    {
     "data": {
      "text/plain": [
       "(-0.4999999999999998,0.8660254037844387)"
      ]
     },
     "execution_count": 37,
     "metadata": {},
     "output_type": "execute_result"
    }
   ],
   "source": [
    "reim(exp(2π*im/3))"
   ]
  },
  {
   "cell_type": "markdown",
   "metadata": {},
   "source": [
    "It returns a tuple. The `...`, or *splat*, operator, unpacks the tuple into two arguments.\n",
    "The `L\"...\"` notation is a special string macro available in the `LateXStrings` package used by `PyPlot`,\n",
    "that makes a LaTeX string."
   ]
  },
  {
   "cell_type": "markdown",
   "metadata": {},
   "source": [
    "Exercise: Make a version that accepts functions and experiment with other complex polynomials. "
   ]
  },
  {
   "cell_type": "markdown",
   "metadata": {},
   "source": [
    "## Introspection and iteration protocol"
   ]
  },
  {
   "cell_type": "markdown",
   "metadata": {},
   "source": [
    "How does Julia know how to iterate using `for` through a vector or range? Let's ask it:"
   ]
  },
  {
   "cell_type": "code",
   "execution_count": 38,
   "metadata": {
    "collapsed": false
   },
   "outputs": [
    {
     "data": {
      "text/plain": [
       "iterate (generic function with 1 method)"
      ]
     },
     "execution_count": 38,
     "metadata": {},
     "output_type": "execute_result"
    }
   ],
   "source": [
    "function iterate(N)\n",
    "    for i in 1:N\n",
    "        println(i)\n",
    "    end\n",
    "end"
   ]
  },
  {
   "cell_type": "markdown",
   "metadata": {},
   "source": [
    "Julia provides access to several layers between the high-level code we write and the low-level machine code that is finally produced by the compilation process:"
   ]
  },
  {
   "cell_type": "code",
   "execution_count": 40,
   "metadata": {
    "collapsed": false
   },
   "outputs": [
    {
     "data": {
      "text/plain": [
       "1-element Array{Any,1}:\n",
       " :($(Expr(:lambda, Any[:N], Any[Any[Any[:N,:Any,0],Any[symbol(\"#s262\"),:Any,2],Any[:i,:Any,18]],Any[],2,Any[]], :(begin  # In[38], line 2:\n",
       "        GenSym(0) = colon(1,N)\n",
       "        #s262 = (top(start))(GenSym(0))\n",
       "        unless (top(!))((top(done))(GenSym(0),#s262)) goto 1\n",
       "        2: \n",
       "        GenSym(1) = (top(next))(GenSym(0),#s262)\n",
       "        i = (top(getfield))(GenSym(1),1)\n",
       "        #s262 = (top(getfield))(GenSym(1),2) # line 3:\n",
       "        println(i)\n",
       "        3: \n",
       "        unless (top(!))((top(!))((top(done))(GenSym(0),#s262))) goto 2\n",
       "        1: \n",
       "        0: \n",
       "        return\n",
       "    end))))"
      ]
     },
     "execution_count": 40,
     "metadata": {},
     "output_type": "execute_result"
    }
   ],
   "source": [
    "@code_lowered iterate(10)"
   ]
  },
  {
   "cell_type": "markdown",
   "metadata": {},
   "source": [
    "We see that there are three important functions: `start`, `next` and `done`.\n",
    "For example, iterating through a Unicode `UTF8String` is complicated, since characters have different lengths:"
   ]
  },
  {
   "cell_type": "code",
   "execution_count": 42,
   "metadata": {
    "collapsed": false
   },
   "outputs": [
    {
     "data": {
      "text/plain": [
       "\"aαbβ\""
      ]
     },
     "execution_count": 42,
     "metadata": {},
     "output_type": "execute_result"
    }
   ],
   "source": [
    "s = \"aαbβ\""
   ]
  },
  {
   "cell_type": "code",
   "execution_count": 43,
   "metadata": {
    "collapsed": false
   },
   "outputs": [
    {
     "name": "stdout",
     "output_type": "stream",
     "text": [
      "a\n",
      "α\n",
      "b\n",
      "β\n"
     ]
    }
   ],
   "source": [
    "for c in s\n",
    "    println(c)\n",
    "end"
   ]
  },
  {
   "cell_type": "code",
   "execution_count": 44,
   "metadata": {
    "collapsed": false
   },
   "outputs": [
    {
     "data": {
      "text/plain": [
       "'a'"
      ]
     },
     "execution_count": 44,
     "metadata": {},
     "output_type": "execute_result"
    }
   ],
   "source": [
    "s[1]"
   ]
  },
  {
   "cell_type": "code",
   "execution_count": 45,
   "metadata": {
    "collapsed": false
   },
   "outputs": [
    {
     "data": {
      "text/plain": [
       "'α'"
      ]
     },
     "execution_count": 45,
     "metadata": {},
     "output_type": "execute_result"
    }
   ],
   "source": [
    "s[2]"
   ]
  },
  {
   "cell_type": "code",
   "execution_count": 46,
   "metadata": {
    "collapsed": false
   },
   "outputs": [
    {
     "ename": "LoadError",
     "evalue": "LoadError: invalid character index\nwhile loading In[46], in expression starting on line 1",
     "output_type": "error",
     "traceback": [
      "LoadError: invalid character index\nwhile loading In[46], in expression starting on line 1",
      "",
      " in next at ./utf8.jl:69",
      " in getindex at string.jl:62"
     ]
    }
   ],
   "source": [
    "s[3]"
   ]
  },
  {
   "cell_type": "code",
   "execution_count": 47,
   "metadata": {
    "collapsed": false
   },
   "outputs": [
    {
     "data": {
      "text/plain": [
       "1"
      ]
     },
     "execution_count": 47,
     "metadata": {},
     "output_type": "execute_result"
    }
   ],
   "source": [
    "start(s)"
   ]
  },
  {
   "cell_type": "code",
   "execution_count": 48,
   "metadata": {
    "collapsed": false
   },
   "outputs": [
    {
     "data": {
      "text/plain": [
       "('a',2)"
      ]
     },
     "execution_count": 48,
     "metadata": {},
     "output_type": "execute_result"
    }
   ],
   "source": [
    "next(s, 1)"
   ]
  },
  {
   "cell_type": "code",
   "execution_count": 49,
   "metadata": {
    "collapsed": false
   },
   "outputs": [
    {
     "data": {
      "text/plain": [
       "('α',4)"
      ]
     },
     "execution_count": 49,
     "metadata": {},
     "output_type": "execute_result"
    }
   ],
   "source": [
    "next(s, 2)"
   ]
  },
  {
   "cell_type": "code",
   "execution_count": 50,
   "metadata": {
    "collapsed": false
   },
   "outputs": [
    {
     "ename": "LoadError",
     "evalue": "LoadError: MethodError: `done` has no method matching done(::UTF8String)\nClosest candidates are:\n  done(::AbstractString, !Matched::Any)\nwhile loading In[50], in expression starting on line 1",
     "output_type": "error",
     "traceback": [
      "LoadError: MethodError: `done` has no method matching done(::UTF8String)\nClosest candidates are:\n  done(::AbstractString, !Matched::Any)\nwhile loading In[50], in expression starting on line 1",
      ""
     ]
    }
   ],
   "source": [
    "done(s)"
   ]
  },
  {
   "cell_type": "code",
   "execution_count": null,
   "metadata": {
    "collapsed": true
   },
   "outputs": [],
   "source": []
  }
 ],
 "metadata": {
  "kernelspec": {
   "display_name": "Julia 0.4.0-dev",
   "language": "julia",
   "name": "julia-0.4"
  },
  "language_info": {
   "name": "julia",
   "version": "0.4.0"
  }
 },
 "nbformat": 4,
 "nbformat_minor": 0
}
